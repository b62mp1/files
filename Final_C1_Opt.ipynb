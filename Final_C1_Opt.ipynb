{
  "cells": [
    {
      "cell_type": "markdown",
      "metadata": {
        "id": "view-in-github",
        "colab_type": "text"
      },
      "source": [
        "<a href=\"https://colab.research.google.com/github/b62mp1/files/blob/main/Final_C1_Opt.ipynb\" target=\"_parent\"><img src=\"https://colab.research.google.com/assets/colab-badge.svg\" alt=\"Open In Colab\"/></a>"
      ]
    },
    {
      "cell_type": "code",
      "execution_count": null,
      "metadata": {
        "id": "QuovUZAkQPeu",
        "colab": {
          "base_uri": "https://localhost:8080/"
        },
        "outputId": "4a1fbd66-f4d2-4766-de3a-e6d0ab574c06"
      },
      "outputs": [
        {
          "output_type": "stream",
          "name": "stdout",
          "text": [
            "Requirement already satisfied: yfinance in /usr/local/lib/python3.7/dist-packages (0.1.70)\n",
            "Requirement already satisfied: numpy>=1.15 in /usr/local/lib/python3.7/dist-packages (from yfinance) (1.21.6)\n",
            "Requirement already satisfied: multitasking>=0.0.7 in /usr/local/lib/python3.7/dist-packages (from yfinance) (0.0.10)\n",
            "Requirement already satisfied: requests>=2.26 in /usr/local/lib/python3.7/dist-packages (from yfinance) (2.27.1)\n",
            "Requirement already satisfied: pandas>=0.24.0 in /usr/local/lib/python3.7/dist-packages (from yfinance) (1.3.5)\n",
            "Requirement already satisfied: lxml>=4.5.1 in /usr/local/lib/python3.7/dist-packages (from yfinance) (4.8.0)\n",
            "Requirement already satisfied: python-dateutil>=2.7.3 in /usr/local/lib/python3.7/dist-packages (from pandas>=0.24.0->yfinance) (2.8.2)\n",
            "Requirement already satisfied: pytz>=2017.3 in /usr/local/lib/python3.7/dist-packages (from pandas>=0.24.0->yfinance) (2022.1)\n",
            "Requirement already satisfied: six>=1.5 in /usr/local/lib/python3.7/dist-packages (from python-dateutil>=2.7.3->pandas>=0.24.0->yfinance) (1.15.0)\n",
            "Requirement already satisfied: urllib3<1.27,>=1.21.1 in /usr/local/lib/python3.7/dist-packages (from requests>=2.26->yfinance) (1.24.3)\n",
            "Requirement already satisfied: certifi>=2017.4.17 in /usr/local/lib/python3.7/dist-packages (from requests>=2.26->yfinance) (2021.10.8)\n",
            "Requirement already satisfied: charset-normalizer~=2.0.0 in /usr/local/lib/python3.7/dist-packages (from requests>=2.26->yfinance) (2.0.12)\n",
            "Requirement already satisfied: idna<4,>=2.5 in /usr/local/lib/python3.7/dist-packages (from requests>=2.26->yfinance) (2.10)\n"
          ]
        }
      ],
      "source": [
        "pip install yfinance"
      ]
    },
    {
      "cell_type": "code",
      "source": [
        "!pip install kaleido"
      ],
      "metadata": {
        "colab": {
          "base_uri": "https://localhost:8080/"
        },
        "id": "ziA1i4cTm4qw",
        "outputId": "cdea0da3-db1a-4238-e476-745e5cb404a3"
      },
      "execution_count": null,
      "outputs": [
        {
          "output_type": "stream",
          "name": "stdout",
          "text": [
            "Requirement already satisfied: kaleido in /usr/local/lib/python3.7/dist-packages (0.2.1)\n"
          ]
        }
      ]
    },
    {
      "cell_type": "code",
      "execution_count": null,
      "metadata": {
        "id": "i2tBTmFLRzD1"
      },
      "outputs": [],
      "source": [
        "import matplotlib.pyplot as plt\n",
        "import numpy as np\n",
        "import pandas as pd\n",
        "\n",
        "import yfinance as yf\n",
        "from pandas_datareader import data as pdr\n",
        "yf.pdr_override()\n",
        "\n",
        "import keras\n",
        "import tensorflow as tf\n",
        "from sklearn.preprocessing import MinMaxScaler\n",
        "from keras.preprocessing.sequence import TimeseriesGenerator\n",
        "from keras.models import Sequential\n",
        "from keras.layers import LSTM, Dense, Input, Activation, concatenate, Dropout\n",
        "from sklearn.metrics import mean_squared_error, r2_score\n",
        "import plotly.graph_objects as go\n",
        "import plotly\n",
        "from google.colab import files"
      ]
    },
    {
      "cell_type": "code",
      "execution_count": null,
      "metadata": {
        "colab": {
          "base_uri": "https://localhost:8080/",
          "height": 272
        },
        "id": "w9aXJNkPR3Wr",
        "outputId": "7d111da8-9dbe-4319-8fdb-b0772247b9fe"
      },
      "outputs": [
        {
          "output_type": "stream",
          "name": "stdout",
          "text": [
            "\r[*********************100%***********************]  1 of 1 completed\n",
            "Number of rows and columns: (578, 7)\n"
          ]
        },
        {
          "output_type": "execute_result",
          "data": {
            "text/plain": [
              "                 Date       Open       High        Low      Close  Adj Close  \\\n",
              "Date                                                                           \n",
              "2020-01-02 2020-01-02  84.900002  86.139999  84.342003  86.052002  86.052002   \n",
              "2020-01-03 2020-01-03  88.099998  90.800003  87.384003  88.601997  88.601997   \n",
              "2020-01-06 2020-01-06  88.094002  90.311996  88.000000  90.307999  90.307999   \n",
              "2020-01-07 2020-01-07  92.279999  94.325996  90.671997  93.811996  93.811996   \n",
              "2020-01-08 2020-01-08  94.739998  99.697998  93.646004  98.428001  98.428001   \n",
              "\n",
              "               Volume  \n",
              "Date                   \n",
              "2020-01-02   47660500  \n",
              "2020-01-03   88892500  \n",
              "2020-01-06   50665000  \n",
              "2020-01-07   89410500  \n",
              "2020-01-08  155721500  "
            ],
            "text/html": [
              "\n",
              "  <div id=\"df-34acf577-3b9b-43b7-b7dc-1f07af25175b\">\n",
              "    <div class=\"colab-df-container\">\n",
              "      <div>\n",
              "<style scoped>\n",
              "    .dataframe tbody tr th:only-of-type {\n",
              "        vertical-align: middle;\n",
              "    }\n",
              "\n",
              "    .dataframe tbody tr th {\n",
              "        vertical-align: top;\n",
              "    }\n",
              "\n",
              "    .dataframe thead th {\n",
              "        text-align: right;\n",
              "    }\n",
              "</style>\n",
              "<table border=\"1\" class=\"dataframe\">\n",
              "  <thead>\n",
              "    <tr style=\"text-align: right;\">\n",
              "      <th></th>\n",
              "      <th>Date</th>\n",
              "      <th>Open</th>\n",
              "      <th>High</th>\n",
              "      <th>Low</th>\n",
              "      <th>Close</th>\n",
              "      <th>Adj Close</th>\n",
              "      <th>Volume</th>\n",
              "    </tr>\n",
              "    <tr>\n",
              "      <th>Date</th>\n",
              "      <th></th>\n",
              "      <th></th>\n",
              "      <th></th>\n",
              "      <th></th>\n",
              "      <th></th>\n",
              "      <th></th>\n",
              "      <th></th>\n",
              "    </tr>\n",
              "  </thead>\n",
              "  <tbody>\n",
              "    <tr>\n",
              "      <th>2020-01-02</th>\n",
              "      <td>2020-01-02</td>\n",
              "      <td>84.900002</td>\n",
              "      <td>86.139999</td>\n",
              "      <td>84.342003</td>\n",
              "      <td>86.052002</td>\n",
              "      <td>86.052002</td>\n",
              "      <td>47660500</td>\n",
              "    </tr>\n",
              "    <tr>\n",
              "      <th>2020-01-03</th>\n",
              "      <td>2020-01-03</td>\n",
              "      <td>88.099998</td>\n",
              "      <td>90.800003</td>\n",
              "      <td>87.384003</td>\n",
              "      <td>88.601997</td>\n",
              "      <td>88.601997</td>\n",
              "      <td>88892500</td>\n",
              "    </tr>\n",
              "    <tr>\n",
              "      <th>2020-01-06</th>\n",
              "      <td>2020-01-06</td>\n",
              "      <td>88.094002</td>\n",
              "      <td>90.311996</td>\n",
              "      <td>88.000000</td>\n",
              "      <td>90.307999</td>\n",
              "      <td>90.307999</td>\n",
              "      <td>50665000</td>\n",
              "    </tr>\n",
              "    <tr>\n",
              "      <th>2020-01-07</th>\n",
              "      <td>2020-01-07</td>\n",
              "      <td>92.279999</td>\n",
              "      <td>94.325996</td>\n",
              "      <td>90.671997</td>\n",
              "      <td>93.811996</td>\n",
              "      <td>93.811996</td>\n",
              "      <td>89410500</td>\n",
              "    </tr>\n",
              "    <tr>\n",
              "      <th>2020-01-08</th>\n",
              "      <td>2020-01-08</td>\n",
              "      <td>94.739998</td>\n",
              "      <td>99.697998</td>\n",
              "      <td>93.646004</td>\n",
              "      <td>98.428001</td>\n",
              "      <td>98.428001</td>\n",
              "      <td>155721500</td>\n",
              "    </tr>\n",
              "  </tbody>\n",
              "</table>\n",
              "</div>\n",
              "      <button class=\"colab-df-convert\" onclick=\"convertToInteractive('df-34acf577-3b9b-43b7-b7dc-1f07af25175b')\"\n",
              "              title=\"Convert this dataframe to an interactive table.\"\n",
              "              style=\"display:none;\">\n",
              "        \n",
              "  <svg xmlns=\"http://www.w3.org/2000/svg\" height=\"24px\"viewBox=\"0 0 24 24\"\n",
              "       width=\"24px\">\n",
              "    <path d=\"M0 0h24v24H0V0z\" fill=\"none\"/>\n",
              "    <path d=\"M18.56 5.44l.94 2.06.94-2.06 2.06-.94-2.06-.94-.94-2.06-.94 2.06-2.06.94zm-11 1L8.5 8.5l.94-2.06 2.06-.94-2.06-.94L8.5 2.5l-.94 2.06-2.06.94zm10 10l.94 2.06.94-2.06 2.06-.94-2.06-.94-.94-2.06-.94 2.06-2.06.94z\"/><path d=\"M17.41 7.96l-1.37-1.37c-.4-.4-.92-.59-1.43-.59-.52 0-1.04.2-1.43.59L10.3 9.45l-7.72 7.72c-.78.78-.78 2.05 0 2.83L4 21.41c.39.39.9.59 1.41.59.51 0 1.02-.2 1.41-.59l7.78-7.78 2.81-2.81c.8-.78.8-2.07 0-2.86zM5.41 20L4 18.59l7.72-7.72 1.47 1.35L5.41 20z\"/>\n",
              "  </svg>\n",
              "      </button>\n",
              "      \n",
              "  <style>\n",
              "    .colab-df-container {\n",
              "      display:flex;\n",
              "      flex-wrap:wrap;\n",
              "      gap: 12px;\n",
              "    }\n",
              "\n",
              "    .colab-df-convert {\n",
              "      background-color: #E8F0FE;\n",
              "      border: none;\n",
              "      border-radius: 50%;\n",
              "      cursor: pointer;\n",
              "      display: none;\n",
              "      fill: #1967D2;\n",
              "      height: 32px;\n",
              "      padding: 0 0 0 0;\n",
              "      width: 32px;\n",
              "    }\n",
              "\n",
              "    .colab-df-convert:hover {\n",
              "      background-color: #E2EBFA;\n",
              "      box-shadow: 0px 1px 2px rgba(60, 64, 67, 0.3), 0px 1px 3px 1px rgba(60, 64, 67, 0.15);\n",
              "      fill: #174EA6;\n",
              "    }\n",
              "\n",
              "    [theme=dark] .colab-df-convert {\n",
              "      background-color: #3B4455;\n",
              "      fill: #D2E3FC;\n",
              "    }\n",
              "\n",
              "    [theme=dark] .colab-df-convert:hover {\n",
              "      background-color: #434B5C;\n",
              "      box-shadow: 0px 1px 3px 1px rgba(0, 0, 0, 0.15);\n",
              "      filter: drop-shadow(0px 1px 2px rgba(0, 0, 0, 0.3));\n",
              "      fill: #FFFFFF;\n",
              "    }\n",
              "  </style>\n",
              "\n",
              "      <script>\n",
              "        const buttonEl =\n",
              "          document.querySelector('#df-34acf577-3b9b-43b7-b7dc-1f07af25175b button.colab-df-convert');\n",
              "        buttonEl.style.display =\n",
              "          google.colab.kernel.accessAllowed ? 'block' : 'none';\n",
              "\n",
              "        async function convertToInteractive(key) {\n",
              "          const element = document.querySelector('#df-34acf577-3b9b-43b7-b7dc-1f07af25175b');\n",
              "          const dataTable =\n",
              "            await google.colab.kernel.invokeFunction('convertToInteractive',\n",
              "                                                     [key], {});\n",
              "          if (!dataTable) return;\n",
              "\n",
              "          const docLinkHtml = 'Like what you see? Visit the ' +\n",
              "            '<a target=\"_blank\" href=https://colab.research.google.com/notebooks/data_table.ipynb>data table notebook</a>'\n",
              "            + ' to learn more about interactive tables.';\n",
              "          element.innerHTML = '';\n",
              "          dataTable['output_type'] = 'display_data';\n",
              "          await google.colab.output.renderOutput(dataTable, element);\n",
              "          const docLink = document.createElement('div');\n",
              "          docLink.innerHTML = docLinkHtml;\n",
              "          element.appendChild(docLink);\n",
              "        }\n",
              "      </script>\n",
              "    </div>\n",
              "  </div>\n",
              "  "
            ]
          },
          "metadata": {},
          "execution_count": 4
        }
      ],
      "source": [
        "stock_name = \"TSLA\"\n",
        "dataset=pdr.get_data_yahoo(stock_name, start='2020-01-01', end='2022-04-19').reset_index()\n",
        "dataset.index = dataset['Date']\n",
        "\n",
        "print(\"Number of rows and columns:\", dataset.shape)\n",
        "dataset.head(5)"
      ]
    },
    {
      "cell_type": "code",
      "execution_count": null,
      "metadata": {
        "id": "15zMiTlGPKaj"
      },
      "outputs": [],
      "source": [
        "close_data = dataset['Close'].values\n",
        "close_data = close_data.reshape((-1,1))\n",
        "\n",
        "scaler = MinMaxScaler(feature_range=(0, 1))\n",
        "close_data = scaler.fit_transform(close_data)"
      ]
    },
    {
      "cell_type": "code",
      "execution_count": null,
      "metadata": {
        "id": "nBRBhfH1SLHa"
      },
      "outputs": [],
      "source": [
        "\n",
        "split_percent = 0.80\n",
        "split = int(split_percent*len(close_data))\n",
        "\n",
        "close_train = close_data[:split]\n",
        "close_test = close_data[split:]\n",
        "\n",
        "date_train = dataset['Date'][:split]\n",
        "date_test = dataset['Date'][split:]\n"
      ]
    },
    {
      "cell_type": "code",
      "execution_count": null,
      "metadata": {
        "id": "9eryDTe9VROF"
      },
      "outputs": [],
      "source": [
        "look_back = 5\n",
        "\n",
        "train_generator = TimeseriesGenerator(close_train, close_train, length=look_back, batch_size=20)     \n",
        "test_generator = TimeseriesGenerator(close_test, close_test, length=look_back, batch_size=10)"
      ]
    },
    {
      "cell_type": "code",
      "execution_count": null,
      "metadata": {
        "id": "DgqX4h3KUb9z"
      },
      "outputs": [],
      "source": [
        "\n",
        "def predict(num_prediction, model):\n",
        "    prediction_list = close_test[-look_back:]\n",
        "    \n",
        "    for _ in range(num_prediction):\n",
        "        x = prediction_list[-look_back:]\n",
        "        x = x.reshape((1, look_back, 1))\n",
        "        out = model.predict(x)[0][0]\n",
        "        prediction_list = np.append(prediction_list, out)\n",
        "    prediction_list = prediction_list[look_back-1:]\n",
        "        \n",
        "    return prediction_list\n",
        "    \n",
        "def predict_dates(num_prediction):\n",
        "    last_date = dataset['Date'].values[-1]\n",
        "    prediction_dates = pd.date_range(last_date, periods=num_prediction+1).tolist()\n",
        "    return prediction_dates\n"
      ]
    },
    {
      "cell_type": "code",
      "execution_count": null,
      "metadata": {
        "colab": {
          "base_uri": "https://localhost:8080/",
          "height": 1000
        },
        "id": "BngmHVQ2Va0E",
        "outputId": "67d44612-49ce-48e9-d9fc-75543b0f66d5"
      },
      "outputs": [
        {
          "output_type": "stream",
          "name": "stdout",
          "text": [
            "Epoch 1/25\n",
            "23/23 [==============================] - 6s 193ms/step - loss: 0.0572\n",
            "Epoch 2/25\n",
            "23/23 [==============================] - 6s 267ms/step - loss: 0.0072\n",
            "Epoch 3/25\n",
            "23/23 [==============================] - 7s 290ms/step - loss: 0.0015\n",
            "Epoch 4/25\n",
            "23/23 [==============================] - 7s 320ms/step - loss: 0.0015\n",
            "Epoch 5/25\n",
            "23/23 [==============================] - 7s 306ms/step - loss: 0.0020\n",
            "Epoch 6/25\n",
            "23/23 [==============================] - 7s 295ms/step - loss: 0.0015\n",
            "Epoch 7/25\n",
            "23/23 [==============================] - 4s 163ms/step - loss: 0.0014\n",
            "Epoch 8/25\n",
            "23/23 [==============================] - 4s 162ms/step - loss: 0.0014\n",
            "Epoch 9/25\n",
            "23/23 [==============================] - 4s 168ms/step - loss: 0.0046\n",
            "Epoch 10/25\n",
            "23/23 [==============================] - 4s 159ms/step - loss: 0.0016\n",
            "Epoch 11/25\n",
            "23/23 [==============================] - 4s 158ms/step - loss: 0.0011\n",
            "Epoch 12/25\n",
            "23/23 [==============================] - 4s 156ms/step - loss: 0.0016\n",
            "Epoch 13/25\n",
            "23/23 [==============================] - 4s 160ms/step - loss: 9.3250e-04\n",
            "Epoch 14/25\n",
            "23/23 [==============================] - 4s 157ms/step - loss: 0.0013\n",
            "Epoch 15/25\n",
            "23/23 [==============================] - 4s 167ms/step - loss: 8.1762e-04\n",
            "Epoch 16/25\n",
            "23/23 [==============================] - 4s 163ms/step - loss: 9.1124e-04\n",
            "Epoch 17/25\n",
            "23/23 [==============================] - 4s 154ms/step - loss: 0.0011\n",
            "Epoch 18/25\n",
            "23/23 [==============================] - 4s 158ms/step - loss: 0.0010\n",
            "Epoch 19/25\n",
            "23/23 [==============================] - 4s 160ms/step - loss: 9.8414e-04\n",
            "Epoch 20/25\n",
            "23/23 [==============================] - 4s 169ms/step - loss: 0.0019\n",
            "Epoch 21/25\n",
            "23/23 [==============================] - 4s 169ms/step - loss: 0.0015\n",
            "Epoch 22/25\n",
            "23/23 [==============================] - 4s 164ms/step - loss: 0.0012\n",
            "Epoch 23/25\n",
            "23/23 [==============================] - 4s 157ms/step - loss: 9.2612e-04\n",
            "Epoch 24/25\n",
            "23/23 [==============================] - 4s 154ms/step - loss: 0.0032\n",
            "Epoch 25/25\n",
            "23/23 [==============================] - 4s 179ms/step - loss: 0.0026\n"
          ]
        },
        {
          "output_type": "display_data",
          "data": {
            "text/plain": [
              "<IPython.core.display.Javascript object>"
            ],
            "application/javascript": [
              "\n",
              "    async function download(id, filename, size) {\n",
              "      if (!google.colab.kernel.accessAllowed) {\n",
              "        return;\n",
              "      }\n",
              "      const div = document.createElement('div');\n",
              "      const label = document.createElement('label');\n",
              "      label.textContent = `Downloading \"${filename}\": `;\n",
              "      div.appendChild(label);\n",
              "      const progress = document.createElement('progress');\n",
              "      progress.max = size;\n",
              "      div.appendChild(progress);\n",
              "      document.body.appendChild(div);\n",
              "\n",
              "      const buffers = [];\n",
              "      let downloaded = 0;\n",
              "\n",
              "      const channel = await google.colab.kernel.comms.open(id);\n",
              "      // Send a message to notify the kernel that we're ready.\n",
              "      channel.send({})\n",
              "\n",
              "      for await (const message of channel.messages) {\n",
              "        // Send a message to notify the kernel that we're ready.\n",
              "        channel.send({})\n",
              "        if (message.buffers) {\n",
              "          for (const buffer of message.buffers) {\n",
              "            buffers.push(buffer);\n",
              "            downloaded += buffer.byteLength;\n",
              "            progress.value = downloaded;\n",
              "          }\n",
              "        }\n",
              "      }\n",
              "      const blob = new Blob(buffers, {type: 'application/binary'});\n",
              "      const a = document.createElement('a');\n",
              "      a.href = window.URL.createObjectURL(blob);\n",
              "      a.download = filename;\n",
              "      div.appendChild(a);\n",
              "      a.click();\n",
              "      div.remove();\n",
              "    }\n",
              "  "
            ]
          },
          "metadata": {}
        },
        {
          "output_type": "display_data",
          "data": {
            "text/plain": [
              "<IPython.core.display.Javascript object>"
            ],
            "application/javascript": [
              "download(\"download_74f88eb1-cae4-4ec4-954e-3de56da5a722\", \"adam.png\", 42755)"
            ]
          },
          "metadata": {}
        },
        {
          "output_type": "display_data",
          "data": {
            "text/plain": [
              "<IPython.core.display.Javascript object>"
            ],
            "application/javascript": [
              "\n",
              "    async function download(id, filename, size) {\n",
              "      if (!google.colab.kernel.accessAllowed) {\n",
              "        return;\n",
              "      }\n",
              "      const div = document.createElement('div');\n",
              "      const label = document.createElement('label');\n",
              "      label.textContent = `Downloading \"${filename}\": `;\n",
              "      div.appendChild(label);\n",
              "      const progress = document.createElement('progress');\n",
              "      progress.max = size;\n",
              "      div.appendChild(progress);\n",
              "      document.body.appendChild(div);\n",
              "\n",
              "      const buffers = [];\n",
              "      let downloaded = 0;\n",
              "\n",
              "      const channel = await google.colab.kernel.comms.open(id);\n",
              "      // Send a message to notify the kernel that we're ready.\n",
              "      channel.send({})\n",
              "\n",
              "      for await (const message of channel.messages) {\n",
              "        // Send a message to notify the kernel that we're ready.\n",
              "        channel.send({})\n",
              "        if (message.buffers) {\n",
              "          for (const buffer of message.buffers) {\n",
              "            buffers.push(buffer);\n",
              "            downloaded += buffer.byteLength;\n",
              "            progress.value = downloaded;\n",
              "          }\n",
              "        }\n",
              "      }\n",
              "      const blob = new Blob(buffers, {type: 'application/binary'});\n",
              "      const a = document.createElement('a');\n",
              "      a.href = window.URL.createObjectURL(blob);\n",
              "      a.download = filename;\n",
              "      div.appendChild(a);\n",
              "      a.click();\n",
              "      div.remove();\n",
              "    }\n",
              "  "
            ]
          },
          "metadata": {}
        },
        {
          "output_type": "display_data",
          "data": {
            "text/plain": [
              "<IPython.core.display.Javascript object>"
            ],
            "application/javascript": [
              "download(\"download_14ab466d-817b-4c6a-8315-601e7668e466\", \"opt.txt\", 66)"
            ]
          },
          "metadata": {}
        },
        {
          "output_type": "stream",
          "name": "stdout",
          "text": [
            "Epoch 1/25\n",
            "23/23 [==============================] - 5s 151ms/step - loss: 0.0528\n",
            "Epoch 2/25\n",
            "23/23 [==============================] - 4s 155ms/step - loss: 0.0095\n",
            "Epoch 3/25\n",
            "23/23 [==============================] - 4s 151ms/step - loss: 0.0025\n",
            "Epoch 4/25\n",
            "23/23 [==============================] - 4s 158ms/step - loss: 0.0012\n",
            "Epoch 5/25\n",
            "23/23 [==============================] - 4s 152ms/step - loss: 9.8378e-04\n",
            "Epoch 6/25\n",
            "23/23 [==============================] - 4s 156ms/step - loss: 0.0011\n",
            "Epoch 7/25\n",
            "23/23 [==============================] - 4s 153ms/step - loss: 7.9012e-04\n",
            "Epoch 8/25\n",
            "23/23 [==============================] - 4s 159ms/step - loss: 0.0011\n",
            "Epoch 9/25\n",
            "23/23 [==============================] - 4s 152ms/step - loss: 8.7230e-04\n",
            "Epoch 10/25\n",
            "23/23 [==============================] - 4s 154ms/step - loss: 8.7798e-04\n",
            "Epoch 11/25\n",
            "23/23 [==============================] - 4s 159ms/step - loss: 0.0012\n",
            "Epoch 12/25\n",
            "23/23 [==============================] - 4s 156ms/step - loss: 0.0010\n",
            "Epoch 13/25\n",
            "23/23 [==============================] - 4s 156ms/step - loss: 8.8394e-04\n",
            "Epoch 14/25\n",
            "23/23 [==============================] - 4s 156ms/step - loss: 8.9304e-04\n",
            "Epoch 15/25\n",
            "23/23 [==============================] - 4s 155ms/step - loss: 9.6641e-04\n",
            "Epoch 16/25\n",
            "23/23 [==============================] - 4s 154ms/step - loss: 8.6344e-04\n",
            "Epoch 17/25\n",
            "23/23 [==============================] - 4s 159ms/step - loss: 8.0359e-04\n",
            "Epoch 18/25\n",
            "23/23 [==============================] - 4s 165ms/step - loss: 0.0010\n",
            "Epoch 19/25\n",
            "23/23 [==============================] - 4s 197ms/step - loss: 8.5545e-04\n",
            "Epoch 20/25\n",
            "23/23 [==============================] - 4s 164ms/step - loss: 8.6891e-04\n",
            "Epoch 21/25\n",
            "23/23 [==============================] - 3s 151ms/step - loss: 9.5735e-04\n",
            "Epoch 22/25\n",
            "23/23 [==============================] - 3s 149ms/step - loss: 8.5425e-04\n",
            "Epoch 23/25\n",
            "23/23 [==============================] - 4s 173ms/step - loss: 8.8905e-04\n",
            "Epoch 24/25\n",
            "23/23 [==============================] - 3s 148ms/step - loss: 8.5147e-04\n",
            "Epoch 25/25\n",
            "23/23 [==============================] - 3s 148ms/step - loss: 9.9066e-04\n"
          ]
        },
        {
          "output_type": "display_data",
          "data": {
            "text/plain": [
              "<IPython.core.display.Javascript object>"
            ],
            "application/javascript": [
              "\n",
              "    async function download(id, filename, size) {\n",
              "      if (!google.colab.kernel.accessAllowed) {\n",
              "        return;\n",
              "      }\n",
              "      const div = document.createElement('div');\n",
              "      const label = document.createElement('label');\n",
              "      label.textContent = `Downloading \"${filename}\": `;\n",
              "      div.appendChild(label);\n",
              "      const progress = document.createElement('progress');\n",
              "      progress.max = size;\n",
              "      div.appendChild(progress);\n",
              "      document.body.appendChild(div);\n",
              "\n",
              "      const buffers = [];\n",
              "      let downloaded = 0;\n",
              "\n",
              "      const channel = await google.colab.kernel.comms.open(id);\n",
              "      // Send a message to notify the kernel that we're ready.\n",
              "      channel.send({})\n",
              "\n",
              "      for await (const message of channel.messages) {\n",
              "        // Send a message to notify the kernel that we're ready.\n",
              "        channel.send({})\n",
              "        if (message.buffers) {\n",
              "          for (const buffer of message.buffers) {\n",
              "            buffers.push(buffer);\n",
              "            downloaded += buffer.byteLength;\n",
              "            progress.value = downloaded;\n",
              "          }\n",
              "        }\n",
              "      }\n",
              "      const blob = new Blob(buffers, {type: 'application/binary'});\n",
              "      const a = document.createElement('a');\n",
              "      a.href = window.URL.createObjectURL(blob);\n",
              "      a.download = filename;\n",
              "      div.appendChild(a);\n",
              "      a.click();\n",
              "      div.remove();\n",
              "    }\n",
              "  "
            ]
          },
          "metadata": {}
        },
        {
          "output_type": "display_data",
          "data": {
            "text/plain": [
              "<IPython.core.display.Javascript object>"
            ],
            "application/javascript": [
              "download(\"download_b3c92e6d-45fb-43cb-b3ee-356b390d21cf\", \"adamax.png\", 40187)"
            ]
          },
          "metadata": {}
        },
        {
          "output_type": "display_data",
          "data": {
            "text/plain": [
              "<IPython.core.display.Javascript object>"
            ],
            "application/javascript": [
              "\n",
              "    async function download(id, filename, size) {\n",
              "      if (!google.colab.kernel.accessAllowed) {\n",
              "        return;\n",
              "      }\n",
              "      const div = document.createElement('div');\n",
              "      const label = document.createElement('label');\n",
              "      label.textContent = `Downloading \"${filename}\": `;\n",
              "      div.appendChild(label);\n",
              "      const progress = document.createElement('progress');\n",
              "      progress.max = size;\n",
              "      div.appendChild(progress);\n",
              "      document.body.appendChild(div);\n",
              "\n",
              "      const buffers = [];\n",
              "      let downloaded = 0;\n",
              "\n",
              "      const channel = await google.colab.kernel.comms.open(id);\n",
              "      // Send a message to notify the kernel that we're ready.\n",
              "      channel.send({})\n",
              "\n",
              "      for await (const message of channel.messages) {\n",
              "        // Send a message to notify the kernel that we're ready.\n",
              "        channel.send({})\n",
              "        if (message.buffers) {\n",
              "          for (const buffer of message.buffers) {\n",
              "            buffers.push(buffer);\n",
              "            downloaded += buffer.byteLength;\n",
              "            progress.value = downloaded;\n",
              "          }\n",
              "        }\n",
              "      }\n",
              "      const blob = new Blob(buffers, {type: 'application/binary'});\n",
              "      const a = document.createElement('a');\n",
              "      a.href = window.URL.createObjectURL(blob);\n",
              "      a.download = filename;\n",
              "      div.appendChild(a);\n",
              "      a.click();\n",
              "      div.remove();\n",
              "    }\n",
              "  "
            ]
          },
          "metadata": {}
        },
        {
          "output_type": "display_data",
          "data": {
            "text/plain": [
              "<IPython.core.display.Javascript object>"
            ],
            "application/javascript": [
              "download(\"download_7d0ea1ea-7ec3-4ec7-895e-baa2c1307ac2\", \"opt.txt\", 133)"
            ]
          },
          "metadata": {}
        },
        {
          "output_type": "stream",
          "name": "stdout",
          "text": [
            "Epoch 1/25\n",
            "23/23 [==============================] - 5s 149ms/step - loss: 0.1235\n",
            "Epoch 2/25\n",
            "23/23 [==============================] - 3s 148ms/step - loss: 0.0586\n",
            "Epoch 3/25\n",
            "23/23 [==============================] - 4s 157ms/step - loss: 0.0425\n",
            "Epoch 4/25\n",
            "23/23 [==============================] - 3s 150ms/step - loss: 0.0373\n",
            "Epoch 5/25\n",
            "23/23 [==============================] - 3s 149ms/step - loss: 0.0350\n",
            "Epoch 6/25\n",
            "23/23 [==============================] - 3s 148ms/step - loss: 0.0335\n",
            "Epoch 7/25\n",
            "23/23 [==============================] - 3s 148ms/step - loss: 0.0322\n",
            "Epoch 8/25\n",
            "23/23 [==============================] - 3s 149ms/step - loss: 0.0309\n",
            "Epoch 9/25\n",
            "23/23 [==============================] - 3s 150ms/step - loss: 0.0300\n",
            "Epoch 10/25\n",
            "23/23 [==============================] - 4s 152ms/step - loss: 0.0290\n",
            "Epoch 11/25\n",
            "23/23 [==============================] - 3s 150ms/step - loss: 0.0282\n",
            "Epoch 12/25\n",
            "23/23 [==============================] - 3s 146ms/step - loss: 0.0272\n",
            "Epoch 13/25\n",
            "23/23 [==============================] - 4s 154ms/step - loss: 0.0260\n",
            "Epoch 14/25\n",
            "23/23 [==============================] - 4s 155ms/step - loss: 0.0256\n",
            "Epoch 15/25\n",
            "23/23 [==============================] - 4s 155ms/step - loss: 0.0247\n",
            "Epoch 16/25\n",
            "23/23 [==============================] - 4s 153ms/step - loss: 0.0240\n",
            "Epoch 17/25\n",
            "23/23 [==============================] - 3s 151ms/step - loss: 0.0231\n",
            "Epoch 18/25\n",
            "23/23 [==============================] - 4s 153ms/step - loss: 0.0224\n",
            "Epoch 19/25\n",
            "23/23 [==============================] - 4s 156ms/step - loss: 0.0218\n",
            "Epoch 20/25\n",
            "23/23 [==============================] - 4s 154ms/step - loss: 0.0209\n",
            "Epoch 21/25\n",
            "23/23 [==============================] - 4s 158ms/step - loss: 0.0203\n",
            "Epoch 22/25\n",
            "23/23 [==============================] - 4s 177ms/step - loss: 0.0197\n",
            "Epoch 23/25\n",
            "23/23 [==============================] - 4s 153ms/step - loss: 0.0187\n",
            "Epoch 24/25\n",
            "23/23 [==============================] - 3s 150ms/step - loss: 0.0184\n",
            "Epoch 25/25\n",
            "23/23 [==============================] - 4s 157ms/step - loss: 0.0178\n"
          ]
        },
        {
          "output_type": "display_data",
          "data": {
            "text/plain": [
              "<IPython.core.display.Javascript object>"
            ],
            "application/javascript": [
              "\n",
              "    async function download(id, filename, size) {\n",
              "      if (!google.colab.kernel.accessAllowed) {\n",
              "        return;\n",
              "      }\n",
              "      const div = document.createElement('div');\n",
              "      const label = document.createElement('label');\n",
              "      label.textContent = `Downloading \"${filename}\": `;\n",
              "      div.appendChild(label);\n",
              "      const progress = document.createElement('progress');\n",
              "      progress.max = size;\n",
              "      div.appendChild(progress);\n",
              "      document.body.appendChild(div);\n",
              "\n",
              "      const buffers = [];\n",
              "      let downloaded = 0;\n",
              "\n",
              "      const channel = await google.colab.kernel.comms.open(id);\n",
              "      // Send a message to notify the kernel that we're ready.\n",
              "      channel.send({})\n",
              "\n",
              "      for await (const message of channel.messages) {\n",
              "        // Send a message to notify the kernel that we're ready.\n",
              "        channel.send({})\n",
              "        if (message.buffers) {\n",
              "          for (const buffer of message.buffers) {\n",
              "            buffers.push(buffer);\n",
              "            downloaded += buffer.byteLength;\n",
              "            progress.value = downloaded;\n",
              "          }\n",
              "        }\n",
              "      }\n",
              "      const blob = new Blob(buffers, {type: 'application/binary'});\n",
              "      const a = document.createElement('a');\n",
              "      a.href = window.URL.createObjectURL(blob);\n",
              "      a.download = filename;\n",
              "      div.appendChild(a);\n",
              "      a.click();\n",
              "      div.remove();\n",
              "    }\n",
              "  "
            ]
          },
          "metadata": {}
        },
        {
          "output_type": "display_data",
          "data": {
            "text/plain": [
              "<IPython.core.display.Javascript object>"
            ],
            "application/javascript": [
              "download(\"download_fc44e050-893d-4011-816e-3bf1b489186e\", \"sgd.png\", 43329)"
            ]
          },
          "metadata": {}
        },
        {
          "output_type": "display_data",
          "data": {
            "text/plain": [
              "<IPython.core.display.Javascript object>"
            ],
            "application/javascript": [
              "\n",
              "    async function download(id, filename, size) {\n",
              "      if (!google.colab.kernel.accessAllowed) {\n",
              "        return;\n",
              "      }\n",
              "      const div = document.createElement('div');\n",
              "      const label = document.createElement('label');\n",
              "      label.textContent = `Downloading \"${filename}\": `;\n",
              "      div.appendChild(label);\n",
              "      const progress = document.createElement('progress');\n",
              "      progress.max = size;\n",
              "      div.appendChild(progress);\n",
              "      document.body.appendChild(div);\n",
              "\n",
              "      const buffers = [];\n",
              "      let downloaded = 0;\n",
              "\n",
              "      const channel = await google.colab.kernel.comms.open(id);\n",
              "      // Send a message to notify the kernel that we're ready.\n",
              "      channel.send({})\n",
              "\n",
              "      for await (const message of channel.messages) {\n",
              "        // Send a message to notify the kernel that we're ready.\n",
              "        channel.send({})\n",
              "        if (message.buffers) {\n",
              "          for (const buffer of message.buffers) {\n",
              "            buffers.push(buffer);\n",
              "            downloaded += buffer.byteLength;\n",
              "            progress.value = downloaded;\n",
              "          }\n",
              "        }\n",
              "      }\n",
              "      const blob = new Blob(buffers, {type: 'application/binary'});\n",
              "      const a = document.createElement('a');\n",
              "      a.href = window.URL.createObjectURL(blob);\n",
              "      a.download = filename;\n",
              "      div.appendChild(a);\n",
              "      a.click();\n",
              "      div.remove();\n",
              "    }\n",
              "  "
            ]
          },
          "metadata": {}
        },
        {
          "output_type": "display_data",
          "data": {
            "text/plain": [
              "<IPython.core.display.Javascript object>"
            ],
            "application/javascript": [
              "download(\"download_f1fcf29f-9e6d-46d6-b64b-c32f59c92c94\", \"opt.txt\", 196)"
            ]
          },
          "metadata": {}
        },
        {
          "output_type": "stream",
          "name": "stdout",
          "text": [
            "Epoch 1/25\n",
            "23/23 [==============================] - 5s 164ms/step - loss: 0.0338\n",
            "Epoch 2/25\n",
            "23/23 [==============================] - 4s 161ms/step - loss: 0.0123\n",
            "Epoch 3/25\n",
            "23/23 [==============================] - 4s 160ms/step - loss: 0.0031\n",
            "Epoch 4/25\n",
            "23/23 [==============================] - 4s 160ms/step - loss: 0.0066\n",
            "Epoch 5/25\n",
            "23/23 [==============================] - 4s 171ms/step - loss: 0.0037\n",
            "Epoch 6/25\n",
            "23/23 [==============================] - 4s 162ms/step - loss: 0.0082\n",
            "Epoch 7/25\n",
            "23/23 [==============================] - 4s 161ms/step - loss: 0.0054\n",
            "Epoch 8/25\n",
            "23/23 [==============================] - 4s 162ms/step - loss: 0.0032\n",
            "Epoch 9/25\n",
            "23/23 [==============================] - 4s 165ms/step - loss: 0.0063\n",
            "Epoch 10/25\n",
            "23/23 [==============================] - 4s 166ms/step - loss: 0.0038\n",
            "Epoch 11/25\n",
            "23/23 [==============================] - 4s 163ms/step - loss: 0.0030\n",
            "Epoch 12/25\n",
            "23/23 [==============================] - 4s 161ms/step - loss: 0.0052\n",
            "Epoch 13/25\n",
            "23/23 [==============================] - 4s 169ms/step - loss: 0.0062\n",
            "Epoch 14/25\n",
            "23/23 [==============================] - 4s 162ms/step - loss: 0.0026\n",
            "Epoch 15/25\n",
            "23/23 [==============================] - 4s 164ms/step - loss: 0.0045\n",
            "Epoch 16/25\n",
            "23/23 [==============================] - 4s 164ms/step - loss: 0.0036\n",
            "Epoch 17/25\n",
            "23/23 [==============================] - 4s 164ms/step - loss: 0.0063\n",
            "Epoch 18/25\n",
            "23/23 [==============================] - 4s 161ms/step - loss: 0.0022\n",
            "Epoch 19/25\n",
            "23/23 [==============================] - 4s 165ms/step - loss: 0.0040\n",
            "Epoch 20/25\n",
            "23/23 [==============================] - 4s 161ms/step - loss: 0.0029\n",
            "Epoch 21/25\n",
            "23/23 [==============================] - 4s 158ms/step - loss: 0.0042\n",
            "Epoch 22/25\n",
            "23/23 [==============================] - 4s 161ms/step - loss: 0.0025\n",
            "Epoch 23/25\n",
            "23/23 [==============================] - 4s 160ms/step - loss: 0.0027\n",
            "Epoch 24/25\n",
            "23/23 [==============================] - 4s 165ms/step - loss: 0.0025\n",
            "Epoch 25/25\n",
            "23/23 [==============================] - 4s 158ms/step - loss: 0.0025\n"
          ]
        },
        {
          "output_type": "display_data",
          "data": {
            "text/plain": [
              "<IPython.core.display.Javascript object>"
            ],
            "application/javascript": [
              "\n",
              "    async function download(id, filename, size) {\n",
              "      if (!google.colab.kernel.accessAllowed) {\n",
              "        return;\n",
              "      }\n",
              "      const div = document.createElement('div');\n",
              "      const label = document.createElement('label');\n",
              "      label.textContent = `Downloading \"${filename}\": `;\n",
              "      div.appendChild(label);\n",
              "      const progress = document.createElement('progress');\n",
              "      progress.max = size;\n",
              "      div.appendChild(progress);\n",
              "      document.body.appendChild(div);\n",
              "\n",
              "      const buffers = [];\n",
              "      let downloaded = 0;\n",
              "\n",
              "      const channel = await google.colab.kernel.comms.open(id);\n",
              "      // Send a message to notify the kernel that we're ready.\n",
              "      channel.send({})\n",
              "\n",
              "      for await (const message of channel.messages) {\n",
              "        // Send a message to notify the kernel that we're ready.\n",
              "        channel.send({})\n",
              "        if (message.buffers) {\n",
              "          for (const buffer of message.buffers) {\n",
              "            buffers.push(buffer);\n",
              "            downloaded += buffer.byteLength;\n",
              "            progress.value = downloaded;\n",
              "          }\n",
              "        }\n",
              "      }\n",
              "      const blob = new Blob(buffers, {type: 'application/binary'});\n",
              "      const a = document.createElement('a');\n",
              "      a.href = window.URL.createObjectURL(blob);\n",
              "      a.download = filename;\n",
              "      div.appendChild(a);\n",
              "      a.click();\n",
              "      div.remove();\n",
              "    }\n",
              "  "
            ]
          },
          "metadata": {}
        },
        {
          "output_type": "display_data",
          "data": {
            "text/plain": [
              "<IPython.core.display.Javascript object>"
            ],
            "application/javascript": [
              "download(\"download_d2696d40-fc3e-4570-8af1-048ddc5035bb\", \"rmsprop.png\", 44250)"
            ]
          },
          "metadata": {}
        },
        {
          "output_type": "display_data",
          "data": {
            "text/plain": [
              "<IPython.core.display.Javascript object>"
            ],
            "application/javascript": [
              "\n",
              "    async function download(id, filename, size) {\n",
              "      if (!google.colab.kernel.accessAllowed) {\n",
              "        return;\n",
              "      }\n",
              "      const div = document.createElement('div');\n",
              "      const label = document.createElement('label');\n",
              "      label.textContent = `Downloading \"${filename}\": `;\n",
              "      div.appendChild(label);\n",
              "      const progress = document.createElement('progress');\n",
              "      progress.max = size;\n",
              "      div.appendChild(progress);\n",
              "      document.body.appendChild(div);\n",
              "\n",
              "      const buffers = [];\n",
              "      let downloaded = 0;\n",
              "\n",
              "      const channel = await google.colab.kernel.comms.open(id);\n",
              "      // Send a message to notify the kernel that we're ready.\n",
              "      channel.send({})\n",
              "\n",
              "      for await (const message of channel.messages) {\n",
              "        // Send a message to notify the kernel that we're ready.\n",
              "        channel.send({})\n",
              "        if (message.buffers) {\n",
              "          for (const buffer of message.buffers) {\n",
              "            buffers.push(buffer);\n",
              "            downloaded += buffer.byteLength;\n",
              "            progress.value = downloaded;\n",
              "          }\n",
              "        }\n",
              "      }\n",
              "      const blob = new Blob(buffers, {type: 'application/binary'});\n",
              "      const a = document.createElement('a');\n",
              "      a.href = window.URL.createObjectURL(blob);\n",
              "      a.download = filename;\n",
              "      div.appendChild(a);\n",
              "      a.click();\n",
              "      div.remove();\n",
              "    }\n",
              "  "
            ]
          },
          "metadata": {}
        },
        {
          "output_type": "display_data",
          "data": {
            "text/plain": [
              "<IPython.core.display.Javascript object>"
            ],
            "application/javascript": [
              "download(\"download_f80cab7e-56c0-47ad-ac89-c972ecbb0eec\", \"opt.txt\", 264)"
            ]
          },
          "metadata": {}
        }
      ],
      "source": [
        "ls = ['adam', 'adamax', 'sgd', 'rmsprop']\n",
        "for i in ls:\n",
        "  model = Sequential()\n",
        "  model.add(\n",
        "      LSTM(1000,\n",
        "          activation='relu',\n",
        "          input_shape=(look_back,1)\n",
        "          )\n",
        "  )\n",
        "\n",
        "  model.add(Dense(1))\n",
        "  model.compile(optimizer=i, loss='mse')\n",
        "\n",
        "  num_epochs = 25\n",
        "  model.fit(train_generator,epochs=num_epochs, verbose=1)\n",
        "\n",
        "  prediction = model.predict(test_generator)\n",
        "\n",
        "  num_prediction = 30\n",
        "  forecast = predict(num_prediction, model)\n",
        "  forecast_dates = predict_dates(num_prediction)\n",
        "\n",
        "  #close_test=close_test[:-look_back]\n",
        "\n",
        "  close_train = close_train.reshape((-1))\n",
        "  close_test = close_test.reshape((-1))\n",
        "  prediction = prediction.reshape((-1))\n",
        "\n",
        "  trace1 = go.Scatter(\n",
        "      x = date_train,\n",
        "      y = close_train,\n",
        "      mode = 'lines',\n",
        "      name = 'Data',\n",
        "  )\n",
        "\n",
        "\n",
        "  trace2 = go.Scatter(\n",
        "      x = date_test,\n",
        "      y = prediction,\n",
        "      mode = 'lines',\n",
        "      name = 'Predicted Data'\n",
        "  )\n",
        "  trace3 = go.Scatter(\n",
        "      x = date_test,\n",
        "      y = close_test,\n",
        "      mode='lines',\n",
        "      name = 'Test Data'\n",
        "  )\n",
        "  trace4 = go.Scatter(\n",
        "      x = forecast_dates,\n",
        "      y = forecast,\n",
        "      mode='lines',\n",
        "      name = 'Future Data'\n",
        "  )\n",
        "  layout = go.Layout(\n",
        "      title = stock_name,\n",
        "      xaxis = {'title' : \"Date\"},\n",
        "      yaxis = {'title' : \"Close\"}\n",
        "  )\n",
        "  fig = go.Figure(data=[trace1, trace2, trace3, trace4], layout=layout)\n",
        "  #fig.update_xaxes(type=\"log\")\n",
        "\n",
        "  fig.write_image(i + \".png\")\n",
        "\n",
        "  files.download(i + \".png\")\n",
        "\n",
        "  close_test2=close_test[:-5]\n",
        "  RNNmse = mean_squared_error(close_test2,prediction)\n",
        "  from math import sqrt\n",
        "  RNNrmse = sqrt(RNNmse)\n",
        "  RNNr2Score = r2_score(close_test2,prediction)\n",
        "\n",
        "\n",
        "  with open('opt.txt', 'a') as testwritefile:\n",
        "      testwritefile.write(i + \" \" + str(RNNmse) + \" \" + str(RNNrmse) + \" \" + str(RNNr2Score) + \"\\n\")\n",
        "  files.download('opt.txt')"
      ]
    },
    {
      "cell_type": "code",
      "execution_count": null,
      "metadata": {
        "id": "wR33fJFVBPxI"
      },
      "outputs": [],
      "source": [
        ""
      ]
    },
    {
      "cell_type": "code",
      "execution_count": null,
      "metadata": {
        "id": "XDLwba6zVyZV"
      },
      "outputs": [],
      "source": [
        ""
      ]
    },
    {
      "cell_type": "code",
      "execution_count": null,
      "metadata": {
        "id": "vYswLdlUCQz8"
      },
      "outputs": [],
      "source": [
        ""
      ]
    }
  ],
  "metadata": {
    "colab": {
      "collapsed_sections": [],
      "name": "Final C1_Opt.ipynb",
      "provenance": [],
      "include_colab_link": true
    },
    "kernelspec": {
      "display_name": "Python 3",
      "name": "python3"
    },
    "language_info": {
      "name": "python"
    }
  },
  "nbformat": 4,
  "nbformat_minor": 0
}