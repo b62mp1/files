{
  "cells": [
    {
      "cell_type": "markdown",
      "metadata": {
        "id": "view-in-github",
        "colab_type": "text"
      },
      "source": [
        "<a href=\"https://colab.research.google.com/github/b62mp1/files/blob/main/Graphs%26Metrics/ARIMA/Arima.ipynb\" target=\"_parent\"><img src=\"https://colab.research.google.com/assets/colab-badge.svg\" alt=\"Open In Colab\"/></a>"
      ]
    },
    {
      "cell_type": "code",
      "source": [
        "pip install yfinance"
      ],
      "metadata": {
        "id": "GZEUv58xFmFE",
        "colab": {
          "base_uri": "https://localhost:8080/"
        },
        "outputId": "71914dbd-2fb3-4249-8ca2-72e4be08144f"
      },
      "execution_count": 17,
      "outputs": [
        {
          "output_type": "stream",
          "name": "stdout",
          "text": [
            "Looking in indexes: https://pypi.org/simple, https://us-python.pkg.dev/colab-wheels/public/simple/\n",
            "Requirement already satisfied: yfinance in /usr/local/lib/python3.7/dist-packages (0.1.70)\n",
            "Requirement already satisfied: numpy>=1.15 in /usr/local/lib/python3.7/dist-packages (from yfinance) (1.21.6)\n",
            "Requirement already satisfied: requests>=2.26 in /usr/local/lib/python3.7/dist-packages (from yfinance) (2.27.1)\n",
            "Requirement already satisfied: multitasking>=0.0.7 in /usr/local/lib/python3.7/dist-packages (from yfinance) (0.0.10)\n",
            "Requirement already satisfied: pandas>=0.24.0 in /usr/local/lib/python3.7/dist-packages (from yfinance) (1.3.5)\n",
            "Requirement already satisfied: lxml>=4.5.1 in /usr/local/lib/python3.7/dist-packages (from yfinance) (4.9.0)\n",
            "Requirement already satisfied: pytz>=2017.3 in /usr/local/lib/python3.7/dist-packages (from pandas>=0.24.0->yfinance) (2022.1)\n",
            "Requirement already satisfied: python-dateutil>=2.7.3 in /usr/local/lib/python3.7/dist-packages (from pandas>=0.24.0->yfinance) (2.8.2)\n",
            "Requirement already satisfied: six>=1.5 in /usr/local/lib/python3.7/dist-packages (from python-dateutil>=2.7.3->pandas>=0.24.0->yfinance) (1.15.0)\n",
            "Requirement already satisfied: urllib3<1.27,>=1.21.1 in /usr/local/lib/python3.7/dist-packages (from requests>=2.26->yfinance) (1.24.3)\n",
            "Requirement already satisfied: charset-normalizer~=2.0.0 in /usr/local/lib/python3.7/dist-packages (from requests>=2.26->yfinance) (2.0.12)\n",
            "Requirement already satisfied: idna<4,>=2.5 in /usr/local/lib/python3.7/dist-packages (from requests>=2.26->yfinance) (2.10)\n",
            "Requirement already satisfied: certifi>=2017.4.17 in /usr/local/lib/python3.7/dist-packages (from requests>=2.26->yfinance) (2022.5.18.1)\n"
          ]
        }
      ]
    },
    {
      "cell_type": "code",
      "execution_count": 18,
      "metadata": {
        "ExecuteTime": {
          "end_time": "2020-09-03T15:56:25.739922Z",
          "start_time": "2020-09-03T15:56:25.533298Z"
        },
        "hidden": true,
        "id": "285cWFwDFPfV"
      },
      "outputs": [],
      "source": [
        "import pandas as pd\n",
        "import numpy as np\n",
        "import matplotlib.pyplot as plt\n",
        "import datetime as dt\n",
        "import yfinance as yf\n",
        "from pandas_datareader import data as pdr\n",
        "from google.colab import files\n",
        "import math\n",
        "from sklearn.metrics import mean_squared_error, r2_score\n",
        "yf.pdr_override()"
      ]
    },
    {
      "cell_type": "code",
      "source": [
        "stock_name = \"TSLA\"\n",
        "df=pdr.get_data_yahoo(stock_name, start='2020-01-01', end='2022-04-19').reset_index()\n",
        "print(\"Number of rows and columns:\", df.shape)\n",
        "df.head(5)"
      ],
      "metadata": {
        "colab": {
          "base_uri": "https://localhost:8080/",
          "height": 241
        },
        "id": "YCqgDGk1rZie",
        "outputId": "847cfd75-ab58-4d06-ec52-3d9e1fd0914c"
      },
      "execution_count": 19,
      "outputs": [
        {
          "output_type": "stream",
          "name": "stdout",
          "text": [
            "\r[*********************100%***********************]  1 of 1 completed\n",
            "Number of rows and columns: (578, 7)\n"
          ]
        },
        {
          "output_type": "execute_result",
          "data": {
            "text/plain": [
              "        Date       Open       High        Low      Close  Adj Close     Volume\n",
              "0 2020-01-02  84.900002  86.139999  84.342003  86.052002  86.052002   47660500\n",
              "1 2020-01-03  88.099998  90.800003  87.384003  88.601997  88.601997   88892500\n",
              "2 2020-01-06  88.094002  90.311996  88.000000  90.307999  90.307999   50665000\n",
              "3 2020-01-07  92.279999  94.325996  90.671997  93.811996  93.811996   89410500\n",
              "4 2020-01-08  94.739998  99.697998  93.646004  98.428001  98.428001  155721500"
            ],
            "text/html": [
              "\n",
              "  <div id=\"df-686fad29-c3be-4cfa-aff7-e85dc3a11a55\">\n",
              "    <div class=\"colab-df-container\">\n",
              "      <div>\n",
              "<style scoped>\n",
              "    .dataframe tbody tr th:only-of-type {\n",
              "        vertical-align: middle;\n",
              "    }\n",
              "\n",
              "    .dataframe tbody tr th {\n",
              "        vertical-align: top;\n",
              "    }\n",
              "\n",
              "    .dataframe thead th {\n",
              "        text-align: right;\n",
              "    }\n",
              "</style>\n",
              "<table border=\"1\" class=\"dataframe\">\n",
              "  <thead>\n",
              "    <tr style=\"text-align: right;\">\n",
              "      <th></th>\n",
              "      <th>Date</th>\n",
              "      <th>Open</th>\n",
              "      <th>High</th>\n",
              "      <th>Low</th>\n",
              "      <th>Close</th>\n",
              "      <th>Adj Close</th>\n",
              "      <th>Volume</th>\n",
              "    </tr>\n",
              "  </thead>\n",
              "  <tbody>\n",
              "    <tr>\n",
              "      <th>0</th>\n",
              "      <td>2020-01-02</td>\n",
              "      <td>84.900002</td>\n",
              "      <td>86.139999</td>\n",
              "      <td>84.342003</td>\n",
              "      <td>86.052002</td>\n",
              "      <td>86.052002</td>\n",
              "      <td>47660500</td>\n",
              "    </tr>\n",
              "    <tr>\n",
              "      <th>1</th>\n",
              "      <td>2020-01-03</td>\n",
              "      <td>88.099998</td>\n",
              "      <td>90.800003</td>\n",
              "      <td>87.384003</td>\n",
              "      <td>88.601997</td>\n",
              "      <td>88.601997</td>\n",
              "      <td>88892500</td>\n",
              "    </tr>\n",
              "    <tr>\n",
              "      <th>2</th>\n",
              "      <td>2020-01-06</td>\n",
              "      <td>88.094002</td>\n",
              "      <td>90.311996</td>\n",
              "      <td>88.000000</td>\n",
              "      <td>90.307999</td>\n",
              "      <td>90.307999</td>\n",
              "      <td>50665000</td>\n",
              "    </tr>\n",
              "    <tr>\n",
              "      <th>3</th>\n",
              "      <td>2020-01-07</td>\n",
              "      <td>92.279999</td>\n",
              "      <td>94.325996</td>\n",
              "      <td>90.671997</td>\n",
              "      <td>93.811996</td>\n",
              "      <td>93.811996</td>\n",
              "      <td>89410500</td>\n",
              "    </tr>\n",
              "    <tr>\n",
              "      <th>4</th>\n",
              "      <td>2020-01-08</td>\n",
              "      <td>94.739998</td>\n",
              "      <td>99.697998</td>\n",
              "      <td>93.646004</td>\n",
              "      <td>98.428001</td>\n",
              "      <td>98.428001</td>\n",
              "      <td>155721500</td>\n",
              "    </tr>\n",
              "  </tbody>\n",
              "</table>\n",
              "</div>\n",
              "      <button class=\"colab-df-convert\" onclick=\"convertToInteractive('df-686fad29-c3be-4cfa-aff7-e85dc3a11a55')\"\n",
              "              title=\"Convert this dataframe to an interactive table.\"\n",
              "              style=\"display:none;\">\n",
              "        \n",
              "  <svg xmlns=\"http://www.w3.org/2000/svg\" height=\"24px\"viewBox=\"0 0 24 24\"\n",
              "       width=\"24px\">\n",
              "    <path d=\"M0 0h24v24H0V0z\" fill=\"none\"/>\n",
              "    <path d=\"M18.56 5.44l.94 2.06.94-2.06 2.06-.94-2.06-.94-.94-2.06-.94 2.06-2.06.94zm-11 1L8.5 8.5l.94-2.06 2.06-.94-2.06-.94L8.5 2.5l-.94 2.06-2.06.94zm10 10l.94 2.06.94-2.06 2.06-.94-2.06-.94-.94-2.06-.94 2.06-2.06.94z\"/><path d=\"M17.41 7.96l-1.37-1.37c-.4-.4-.92-.59-1.43-.59-.52 0-1.04.2-1.43.59L10.3 9.45l-7.72 7.72c-.78.78-.78 2.05 0 2.83L4 21.41c.39.39.9.59 1.41.59.51 0 1.02-.2 1.41-.59l7.78-7.78 2.81-2.81c.8-.78.8-2.07 0-2.86zM5.41 20L4 18.59l7.72-7.72 1.47 1.35L5.41 20z\"/>\n",
              "  </svg>\n",
              "      </button>\n",
              "      \n",
              "  <style>\n",
              "    .colab-df-container {\n",
              "      display:flex;\n",
              "      flex-wrap:wrap;\n",
              "      gap: 12px;\n",
              "    }\n",
              "\n",
              "    .colab-df-convert {\n",
              "      background-color: #E8F0FE;\n",
              "      border: none;\n",
              "      border-radius: 50%;\n",
              "      cursor: pointer;\n",
              "      display: none;\n",
              "      fill: #1967D2;\n",
              "      height: 32px;\n",
              "      padding: 0 0 0 0;\n",
              "      width: 32px;\n",
              "    }\n",
              "\n",
              "    .colab-df-convert:hover {\n",
              "      background-color: #E2EBFA;\n",
              "      box-shadow: 0px 1px 2px rgba(60, 64, 67, 0.3), 0px 1px 3px 1px rgba(60, 64, 67, 0.15);\n",
              "      fill: #174EA6;\n",
              "    }\n",
              "\n",
              "    [theme=dark] .colab-df-convert {\n",
              "      background-color: #3B4455;\n",
              "      fill: #D2E3FC;\n",
              "    }\n",
              "\n",
              "    [theme=dark] .colab-df-convert:hover {\n",
              "      background-color: #434B5C;\n",
              "      box-shadow: 0px 1px 3px 1px rgba(0, 0, 0, 0.15);\n",
              "      filter: drop-shadow(0px 1px 2px rgba(0, 0, 0, 0.3));\n",
              "      fill: #FFFFFF;\n",
              "    }\n",
              "  </style>\n",
              "\n",
              "      <script>\n",
              "        const buttonEl =\n",
              "          document.querySelector('#df-686fad29-c3be-4cfa-aff7-e85dc3a11a55 button.colab-df-convert');\n",
              "        buttonEl.style.display =\n",
              "          google.colab.kernel.accessAllowed ? 'block' : 'none';\n",
              "\n",
              "        async function convertToInteractive(key) {\n",
              "          const element = document.querySelector('#df-686fad29-c3be-4cfa-aff7-e85dc3a11a55');\n",
              "          const dataTable =\n",
              "            await google.colab.kernel.invokeFunction('convertToInteractive',\n",
              "                                                     [key], {});\n",
              "          if (!dataTable) return;\n",
              "\n",
              "          const docLinkHtml = 'Like what you see? Visit the ' +\n",
              "            '<a target=\"_blank\" href=https://colab.research.google.com/notebooks/data_table.ipynb>data table notebook</a>'\n",
              "            + ' to learn more about interactive tables.';\n",
              "          element.innerHTML = '';\n",
              "          dataTable['output_type'] = 'display_data';\n",
              "          await google.colab.output.renderOutput(dataTable, element);\n",
              "          const docLink = document.createElement('div');\n",
              "          docLink.innerHTML = docLinkHtml;\n",
              "          element.appendChild(docLink);\n",
              "        }\n",
              "      </script>\n",
              "    </div>\n",
              "  </div>\n",
              "  "
            ]
          },
          "metadata": {},
          "execution_count": 19
        }
      ]
    },
    {
      "cell_type": "code",
      "source": [
        "series = df['Close']\n",
        "# Create train data set\n",
        "ind = df['Date'][int(0.80 * len(df['Date'].values))]\n",
        "train_split_date = ind\n",
        "train_split_index = np.where(df.Date == train_split_date)[0][0]\n",
        "x_train = df.loc[df['Date'] <= train_split_date]['Close']\n",
        "\n",
        "# Create test data set\n",
        "test_split_date = ind\n",
        "test_split_index = np.where(df.Date == test_split_date)[0][0]\n",
        "x_test = df.loc[df['Date'] >= test_split_date]['Close']\n",
        "\n",
        "dates = df.loc[df['Date'] >= test_split_date]['Date']\n",
        "\n",
        "# Create valid data set (Here we are not using it))\n",
        "\n",
        "valid_split_index = (train_split_index.max(),test_split_index.min())\n",
        "x_valid = df.loc[(df['Date'] < test_split_date) & (df['Date'] > train_split_date)]['Close']"
      ],
      "metadata": {
        "id": "n7FcDNikt6My"
      },
      "execution_count": 20,
      "outputs": []
    },
    {
      "cell_type": "code",
      "source": [
        "# Creating the model\n",
        "from statsmodels.tsa.arima_model import ARIMA\n",
        "\n",
        "# Create list of x train valuess\n",
        "history = [x for x in x_train]\n",
        "\n",
        "# establish list for predictions\n",
        "model_predictions = []\n",
        "\n",
        "# loop through every data point\n",
        "for time_point in list(x_test.index[:]):\n",
        "    model = ARIMA(history, order=(4,1,0)) # p = 4, d = 1, q = 0\n",
        "    model_fit = model.fit(disp=0)\n",
        "    output = model_fit.forecast()\n",
        "    yhat = output[0]\n",
        "    model_predictions.append(yhat)\n",
        "    true_test_value = x_test[time_point]\n",
        "    history.append(true_test_value)"
      ],
      "metadata": {
        "id": "fZzNBIW1tCt8"
      },
      "execution_count": 21,
      "outputs": []
    },
    {
      "cell_type": "code",
      "source": [
        "from datetime import datetime\n",
        "date = [str(d)[:10] for d in dates[:]]\n",
        "# Plot our predictions against the actual values for a visual comparison.\n",
        "plt.figure(figsize=(10,5))\n",
        "\n",
        "plt.plot(x_test.index[:], model_predictions[:], color='blue',label='Predicted Price')\n",
        "plt.plot(x_test.index[:], x_test[:], color='red', label='Actual Price')\n",
        "plt.ylabel('Dollars $')\n",
        "plt.xlabel('Days')\n",
        "plt.title('ARIMA(4,1,0) Forecast vs Actual')\n",
        "#plt.xticks(x_test.index[-50:], date)\n",
        "plt.xticks( x_test.index[::25], date[::25])\n",
        "plt.legend()\n",
        "plt.show()"
      ],
      "metadata": {
        "colab": {
          "base_uri": "https://localhost:8080/",
          "height": 350
        },
        "id": "5N2dVuPMtOGs",
        "outputId": "ba12ce7c-4be5-4dfb-d6c2-bd8af36ee710"
      },
      "execution_count": 22,
      "outputs": [
        {
          "output_type": "display_data",
          "data": {
            "text/plain": [
              "<Figure size 720x360 with 1 Axes>"
            ],
            "image/png": "[encoded data removed]"
          },
          "metadata": {
            "needs_background": "light"
          }
        }
      ]
    }
  ],
  "metadata": {
    "kernelspec": {
      "display_name": "Python 3",
      "language": "python",
      "name": "python3"
    },
    "language_info": {
      "codemirror_mode": {
        "name": "ipython",
        "version": 3
      },
      "file_extension": ".py",
      "mimetype": "text/x-python",
      "name": "python",
      "nbconvert_exporter": "python",
      "pygments_lexer": "ipython3",
      "version": "3.7.6"
    },
    "varInspector": {
      "cols": {
        "lenName": 16,
        "lenType": 16,
        "lenVar": 40
      },
      "kernels_config": {
        "python": {
          "delete_cmd_postfix": "",
          "delete_cmd_prefix": "del ",
          "library": "var_list.py",
          "varRefreshCmd": "print(var_dic_list())"
        },
        "r": {
          "delete_cmd_postfix": ") ",
          "delete_cmd_prefix": "rm(",
          "library": "var_list.r",
          "varRefreshCmd": "cat(var_dic_list()) "
        }
      },
      "types_to_exclude": [
        "module",
        "function",
        "builtin_function_or_method",
        "instance",
        "_Feature"
      ],
      "window_display": false
    },
    "colab": {
      "name": "Arima2",
      "provenance": [],
      "collapsed_sections": [],
      "include_colab_link": true
    }
  },
  "nbformat": 4,
  "nbformat_minor": 0
}