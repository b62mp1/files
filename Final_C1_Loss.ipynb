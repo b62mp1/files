{
  "cells": [
    {
      "cell_type": "markdown",
      "metadata": {
        "id": "view-in-github",
        "colab_type": "text"
      },
      "source": [
        "<a href=\"https://colab.research.google.com/github/b62mp1/files/blob/main/Final_C1_Loss.ipynb\" target=\"_parent\"><img src=\"https://colab.research.google.com/assets/colab-badge.svg\" alt=\"Open In Colab\"/></a>"
      ]
    },
    {
      "cell_type": "code",
      "execution_count": null,
      "metadata": {
        "colab": {
          "base_uri": "https://localhost:8080/"
        },
        "id": "QuovUZAkQPeu",
        "outputId": "24343583-e7b5-4a26-de57-3b9ef2113669"
      },
      "outputs": [
        {
          "output_type": "stream",
          "name": "stdout",
          "text": [
            "Requirement already satisfied: yfinance in /usr/local/lib/python3.7/dist-packages (0.1.70)\n",
            "Requirement already satisfied: multitasking>=0.0.7 in /usr/local/lib/python3.7/dist-packages (from yfinance) (0.0.10)\n",
            "Requirement already satisfied: requests>=2.26 in /usr/local/lib/python3.7/dist-packages (from yfinance) (2.27.1)\n",
            "Requirement already satisfied: pandas>=0.24.0 in /usr/local/lib/python3.7/dist-packages (from yfinance) (1.3.5)\n",
            "Requirement already satisfied: numpy>=1.15 in /usr/local/lib/python3.7/dist-packages (from yfinance) (1.21.6)\n",
            "Requirement already satisfied: lxml>=4.5.1 in /usr/local/lib/python3.7/dist-packages (from yfinance) (4.8.0)\n",
            "Requirement already satisfied: pytz>=2017.3 in /usr/local/lib/python3.7/dist-packages (from pandas>=0.24.0->yfinance) (2022.1)\n",
            "Requirement already satisfied: python-dateutil>=2.7.3 in /usr/local/lib/python3.7/dist-packages (from pandas>=0.24.0->yfinance) (2.8.2)\n",
            "Requirement already satisfied: six>=1.5 in /usr/local/lib/python3.7/dist-packages (from python-dateutil>=2.7.3->pandas>=0.24.0->yfinance) (1.15.0)\n",
            "Requirement already satisfied: urllib3<1.27,>=1.21.1 in /usr/local/lib/python3.7/dist-packages (from requests>=2.26->yfinance) (1.24.3)\n",
            "Requirement already satisfied: idna<4,>=2.5 in /usr/local/lib/python3.7/dist-packages (from requests>=2.26->yfinance) (2.10)\n",
            "Requirement already satisfied: charset-normalizer~=2.0.0 in /usr/local/lib/python3.7/dist-packages (from requests>=2.26->yfinance) (2.0.12)\n",
            "Requirement already satisfied: certifi>=2017.4.17 in /usr/local/lib/python3.7/dist-packages (from requests>=2.26->yfinance) (2021.10.8)\n"
          ]
        }
      ],
      "source": [
        "pip install yfinance"
      ]
    },
    {
      "cell_type": "code",
      "source": [
        "pip install -U kaleido"
      ],
      "metadata": {
        "colab": {
          "base_uri": "https://localhost:8080/"
        },
        "id": "HfoqMbA6m-hy",
        "outputId": "86b1a508-dcfc-47c3-9024-451adf1a67ac"
      },
      "execution_count": null,
      "outputs": [
        {
          "output_type": "stream",
          "name": "stdout",
          "text": [
            "Requirement already satisfied: kaleido in /usr/local/lib/python3.7/dist-packages (0.2.1)\n"
          ]
        }
      ]
    },
    {
      "cell_type": "code",
      "execution_count": null,
      "metadata": {
        "id": "i2tBTmFLRzD1"
      },
      "outputs": [],
      "source": [
        "import matplotlib.pyplot as plt\n",
        "import numpy as np\n",
        "import pandas as pd\n",
        "\n",
        "import yfinance as yf\n",
        "from pandas_datareader import data as pdr\n",
        "yf.pdr_override()\n",
        "\n",
        "import keras\n",
        "import tensorflow as tf\n",
        "from sklearn.preprocessing import MinMaxScaler\n",
        "from keras.preprocessing.sequence import TimeseriesGenerator\n",
        "from keras.models import Sequential\n",
        "from keras.layers import LSTM, Dense, Input, Activation, concatenate, Dropout\n",
        "from sklearn.metrics import mean_squared_error, r2_score\n",
        "import plotly.graph_objects as go\n",
        "from google.colab import files"
      ]
    },
    {
      "cell_type": "code",
      "execution_count": null,
      "metadata": {
        "colab": {
          "base_uri": "https://localhost:8080/",
          "height": 272
        },
        "id": "w9aXJNkPR3Wr",
        "outputId": "c8b1a487-852d-4386-d56e-922828e6d048"
      },
      "outputs": [
        {
          "output_type": "stream",
          "name": "stdout",
          "text": [
            "\r[*********************100%***********************]  1 of 1 completed\n",
            "Number of rows and columns: (578, 7)\n"
          ]
        },
        {
          "output_type": "execute_result",
          "data": {
            "text/plain": [
              "                 Date       Open       High        Low      Close  Adj Close  \\\n",
              "Date                                                                           \n",
              "2020-01-02 2020-01-02  84.900002  86.139999  84.342003  86.052002  86.052002   \n",
              "2020-01-03 2020-01-03  88.099998  90.800003  87.384003  88.601997  88.601997   \n",
              "2020-01-06 2020-01-06  88.094002  90.311996  88.000000  90.307999  90.307999   \n",
              "2020-01-07 2020-01-07  92.279999  94.325996  90.671997  93.811996  93.811996   \n",
              "2020-01-08 2020-01-08  94.739998  99.697998  93.646004  98.428001  98.428001   \n",
              "\n",
              "               Volume  \n",
              "Date                   \n",
              "2020-01-02   47660500  \n",
              "2020-01-03   88892500  \n",
              "2020-01-06   50665000  \n",
              "2020-01-07   89410500  \n",
              "2020-01-08  155721500  "
            ],
            "text/html": [
              "\n",
              "  <div id=\"df-59cd892a-1dc0-41d0-a05b-7169582d1891\">\n",
              "    <div class=\"colab-df-container\">\n",
              "      <div>\n",
              "<style scoped>\n",
              "    .dataframe tbody tr th:only-of-type {\n",
              "        vertical-align: middle;\n",
              "    }\n",
              "\n",
              "    .dataframe tbody tr th {\n",
              "        vertical-align: top;\n",
              "    }\n",
              "\n",
              "    .dataframe thead th {\n",
              "        text-align: right;\n",
              "    }\n",
              "</style>\n",
              "<table border=\"1\" class=\"dataframe\">\n",
              "  <thead>\n",
              "    <tr style=\"text-align: right;\">\n",
              "      <th></th>\n",
              "      <th>Date</th>\n",
              "      <th>Open</th>\n",
              "      <th>High</th>\n",
              "      <th>Low</th>\n",
              "      <th>Close</th>\n",
              "      <th>Adj Close</th>\n",
              "      <th>Volume</th>\n",
              "    </tr>\n",
              "    <tr>\n",
              "      <th>Date</th>\n",
              "      <th></th>\n",
              "      <th></th>\n",
              "      <th></th>\n",
              "      <th></th>\n",
              "      <th></th>\n",
              "      <th></th>\n",
              "      <th></th>\n",
              "    </tr>\n",
              "  </thead>\n",
              "  <tbody>\n",
              "    <tr>\n",
              "      <th>2020-01-02</th>\n",
              "      <td>2020-01-02</td>\n",
              "      <td>84.900002</td>\n",
              "      <td>86.139999</td>\n",
              "      <td>84.342003</td>\n",
              "      <td>86.052002</td>\n",
              "      <td>86.052002</td>\n",
              "      <td>47660500</td>\n",
              "    </tr>\n",
              "    <tr>\n",
              "      <th>2020-01-03</th>\n",
              "      <td>2020-01-03</td>\n",
              "      <td>88.099998</td>\n",
              "      <td>90.800003</td>\n",
              "      <td>87.384003</td>\n",
              "      <td>88.601997</td>\n",
              "      <td>88.601997</td>\n",
              "      <td>88892500</td>\n",
              "    </tr>\n",
              "    <tr>\n",
              "      <th>2020-01-06</th>\n",
              "      <td>2020-01-06</td>\n",
              "      <td>88.094002</td>\n",
              "      <td>90.311996</td>\n",
              "      <td>88.000000</td>\n",
              "      <td>90.307999</td>\n",
              "      <td>90.307999</td>\n",
              "      <td>50665000</td>\n",
              "    </tr>\n",
              "    <tr>\n",
              "      <th>2020-01-07</th>\n",
              "      <td>2020-01-07</td>\n",
              "      <td>92.279999</td>\n",
              "      <td>94.325996</td>\n",
              "      <td>90.671997</td>\n",
              "      <td>93.811996</td>\n",
              "      <td>93.811996</td>\n",
              "      <td>89410500</td>\n",
              "    </tr>\n",
              "    <tr>\n",
              "      <th>2020-01-08</th>\n",
              "      <td>2020-01-08</td>\n",
              "      <td>94.739998</td>\n",
              "      <td>99.697998</td>\n",
              "      <td>93.646004</td>\n",
              "      <td>98.428001</td>\n",
              "      <td>98.428001</td>\n",
              "      <td>155721500</td>\n",
              "    </tr>\n",
              "  </tbody>\n",
              "</table>\n",
              "</div>\n",
              "      <button class=\"colab-df-convert\" onclick=\"convertToInteractive('df-59cd892a-1dc0-41d0-a05b-7169582d1891')\"\n",
              "              title=\"Convert this dataframe to an interactive table.\"\n",
              "              style=\"display:none;\">\n",
              "        \n",
              "  <svg xmlns=\"http://www.w3.org/2000/svg\" height=\"24px\"viewBox=\"0 0 24 24\"\n",
              "       width=\"24px\">\n",
              "    <path d=\"M0 0h24v24H0V0z\" fill=\"none\"/>\n",
              "    <path d=\"M18.56 5.44l.94 2.06.94-2.06 2.06-.94-2.06-.94-.94-2.06-.94 2.06-2.06.94zm-11 1L8.5 8.5l.94-2.06 2.06-.94-2.06-.94L8.5 2.5l-.94 2.06-2.06.94zm10 10l.94 2.06.94-2.06 2.06-.94-2.06-.94-.94-2.06-.94 2.06-2.06.94z\"/><path d=\"M17.41 7.96l-1.37-1.37c-.4-.4-.92-.59-1.43-.59-.52 0-1.04.2-1.43.59L10.3 9.45l-7.72 7.72c-.78.78-.78 2.05 0 2.83L4 21.41c.39.39.9.59 1.41.59.51 0 1.02-.2 1.41-.59l7.78-7.78 2.81-2.81c.8-.78.8-2.07 0-2.86zM5.41 20L4 18.59l7.72-7.72 1.47 1.35L5.41 20z\"/>\n",
              "  </svg>\n",
              "      </button>\n",
              "      \n",
              "  <style>\n",
              "    .colab-df-container {\n",
              "      display:flex;\n",
              "      flex-wrap:wrap;\n",
              "      gap: 12px;\n",
              "    }\n",
              "\n",
              "    .colab-df-convert {\n",
              "      background-color: #E8F0FE;\n",
              "      border: none;\n",
              "      border-radius: 50%;\n",
              "      cursor: pointer;\n",
              "      display: none;\n",
              "      fill: #1967D2;\n",
              "      height: 32px;\n",
              "      padding: 0 0 0 0;\n",
              "      width: 32px;\n",
              "    }\n",
              "\n",
              "    .colab-df-convert:hover {\n",
              "      background-color: #E2EBFA;\n",
              "      box-shadow: 0px 1px 2px rgba(60, 64, 67, 0.3), 0px 1px 3px 1px rgba(60, 64, 67, 0.15);\n",
              "      fill: #174EA6;\n",
              "    }\n",
              "\n",
              "    [theme=dark] .colab-df-convert {\n",
              "      background-color: #3B4455;\n",
              "      fill: #D2E3FC;\n",
              "    }\n",
              "\n",
              "    [theme=dark] .colab-df-convert:hover {\n",
              "      background-color: #434B5C;\n",
              "      box-shadow: 0px 1px 3px 1px rgba(0, 0, 0, 0.15);\n",
              "      filter: drop-shadow(0px 1px 2px rgba(0, 0, 0, 0.3));\n",
              "      fill: #FFFFFF;\n",
              "    }\n",
              "  </style>\n",
              "\n",
              "      <script>\n",
              "        const buttonEl =\n",
              "          document.querySelector('#df-59cd892a-1dc0-41d0-a05b-7169582d1891 button.colab-df-convert');\n",
              "        buttonEl.style.display =\n",
              "          google.colab.kernel.accessAllowed ? 'block' : 'none';\n",
              "\n",
              "        async function convertToInteractive(key) {\n",
              "          const element = document.querySelector('#df-59cd892a-1dc0-41d0-a05b-7169582d1891');\n",
              "          const dataTable =\n",
              "            await google.colab.kernel.invokeFunction('convertToInteractive',\n",
              "                                                     [key], {});\n",
              "          if (!dataTable) return;\n",
              "\n",
              "          const docLinkHtml = 'Like what you see? Visit the ' +\n",
              "            '<a target=\"_blank\" href=https://colab.research.google.com/notebooks/data_table.ipynb>data table notebook</a>'\n",
              "            + ' to learn more about interactive tables.';\n",
              "          element.innerHTML = '';\n",
              "          dataTable['output_type'] = 'display_data';\n",
              "          await google.colab.output.renderOutput(dataTable, element);\n",
              "          const docLink = document.createElement('div');\n",
              "          docLink.innerHTML = docLinkHtml;\n",
              "          element.appendChild(docLink);\n",
              "        }\n",
              "      </script>\n",
              "    </div>\n",
              "  </div>\n",
              "  "
            ]
          },
          "metadata": {},
          "execution_count": 4
        }
      ],
      "source": [
        "stock_name = \"TSLA\"\n",
        "dataset=pdr.get_data_yahoo(stock_name, start='2020-01-01', end='2022-04-19').reset_index()\n",
        "dataset.index = dataset['Date']\n",
        "\n",
        "print(\"Number of rows and columns:\", dataset.shape)\n",
        "dataset.head(5)"
      ]
    },
    {
      "cell_type": "code",
      "execution_count": null,
      "metadata": {
        "id": "15zMiTlGPKaj"
      },
      "outputs": [],
      "source": [
        "close_data = dataset['Close'].values\n",
        "close_data = close_data.reshape((-1,1))\n",
        "\n",
        "scaler = MinMaxScaler(feature_range=(0, 1))\n",
        "close_data = scaler.fit_transform(close_data)"
      ]
    },
    {
      "cell_type": "code",
      "execution_count": null,
      "metadata": {
        "id": "nBRBhfH1SLHa"
      },
      "outputs": [],
      "source": [
        "\n",
        "split_percent = 0.80\n",
        "split = int(split_percent*len(close_data))\n",
        "\n",
        "close_train = close_data[:split]\n",
        "close_test = close_data[split:]\n",
        "\n",
        "date_train = dataset['Date'][:split]\n",
        "date_test = dataset['Date'][split:]\n"
      ]
    },
    {
      "cell_type": "code",
      "execution_count": null,
      "metadata": {
        "id": "9eryDTe9VROF"
      },
      "outputs": [],
      "source": [
        "look_back = 5\n",
        "\n",
        "train_generator = TimeseriesGenerator(close_train, close_train, length=look_back, batch_size=20)     \n",
        "test_generator = TimeseriesGenerator(close_test, close_test, length=look_back, batch_size=10)"
      ]
    },
    {
      "cell_type": "code",
      "execution_count": null,
      "metadata": {
        "id": "DgqX4h3KUb9z"
      },
      "outputs": [],
      "source": [
        "\n",
        "def predict(num_prediction, model):\n",
        "    prediction_list = close_test[-look_back:]\n",
        "    \n",
        "    for _ in range(num_prediction):\n",
        "        x = prediction_list[-look_back:]\n",
        "        x = x.reshape((1, look_back, 1))\n",
        "        out = model.predict(x)[0][0]\n",
        "        prediction_list = np.append(prediction_list, out)\n",
        "    prediction_list = prediction_list[look_back-1:]\n",
        "        \n",
        "    return prediction_list\n",
        "    \n",
        "def predict_dates(num_prediction):\n",
        "    last_date = dataset['Date'].values[-1]\n",
        "    prediction_dates = pd.date_range(last_date, periods=num_prediction+1).tolist()\n",
        "    return prediction_dates\n"
      ]
    },
    {
      "cell_type": "code",
      "execution_count": null,
      "metadata": {
        "colab": {
          "base_uri": "https://localhost:8080/",
          "height": 1000
        },
        "id": "BngmHVQ2Va0E",
        "outputId": "c3b3e704-d0bb-4517-e711-2dd61a5f4ea4"
      },
      "outputs": [
        {
          "output_type": "stream",
          "name": "stdout",
          "text": [
            "Epoch 1/25\n",
            "23/23 [==============================] - 5s 142ms/step - loss: 0.0424\n",
            "Epoch 2/25\n",
            "23/23 [==============================] - 5s 231ms/step - loss: 0.0093\n",
            "Epoch 3/25\n",
            "23/23 [==============================] - 6s 273ms/step - loss: 0.0052\n",
            "Epoch 4/25\n",
            "23/23 [==============================] - 4s 160ms/step - loss: 0.0040\n",
            "Epoch 5/25\n",
            "23/23 [==============================] - 3s 135ms/step - loss: 0.0017\n",
            "Epoch 6/25\n",
            "23/23 [==============================] - 3s 143ms/step - loss: 0.0013\n",
            "Epoch 7/25\n",
            "23/23 [==============================] - 3s 136ms/step - loss: 0.0010\n",
            "Epoch 8/25\n",
            "23/23 [==============================] - 3s 140ms/step - loss: 0.0015\n",
            "Epoch 9/25\n",
            "23/23 [==============================] - 3s 141ms/step - loss: 9.4713e-04\n",
            "Epoch 10/25\n",
            "23/23 [==============================] - 3s 140ms/step - loss: 0.0017\n",
            "Epoch 11/25\n",
            "23/23 [==============================] - 3s 141ms/step - loss: 0.0013\n",
            "Epoch 12/25\n",
            "23/23 [==============================] - 3s 138ms/step - loss: 0.0012\n",
            "Epoch 13/25\n",
            "23/23 [==============================] - 3s 135ms/step - loss: 8.7608e-04\n",
            "Epoch 14/25\n",
            "23/23 [==============================] - 3s 135ms/step - loss: 0.0024\n",
            "Epoch 15/25\n",
            "23/23 [==============================] - 3s 139ms/step - loss: 0.0023\n",
            "Epoch 16/25\n",
            "23/23 [==============================] - 3s 134ms/step - loss: 0.0023\n",
            "Epoch 17/25\n",
            "23/23 [==============================] - 3s 133ms/step - loss: 0.0015\n",
            "Epoch 18/25\n",
            "23/23 [==============================] - 3s 136ms/step - loss: 0.0024\n",
            "Epoch 19/25\n",
            "23/23 [==============================] - 3s 138ms/step - loss: 0.0011\n",
            "Epoch 20/25\n",
            "23/23 [==============================] - 3s 133ms/step - loss: 7.2964e-04\n",
            "Epoch 21/25\n",
            "23/23 [==============================] - 3s 132ms/step - loss: 9.2677e-04\n",
            "Epoch 22/25\n",
            "23/23 [==============================] - 3s 134ms/step - loss: 0.0017\n",
            "Epoch 23/25\n",
            "23/23 [==============================] - 3s 133ms/step - loss: 0.0019\n",
            "Epoch 24/25\n",
            "23/23 [==============================] - 3s 133ms/step - loss: 0.0011\n",
            "Epoch 25/25\n",
            "23/23 [==============================] - 3s 136ms/step - loss: 7.6559e-04\n"
          ]
        },
        {
          "output_type": "display_data",
          "data": {
            "text/plain": [
              "<IPython.core.display.Javascript object>"
            ],
            "application/javascript": [
              "\n",
              "    async function download(id, filename, size) {\n",
              "      if (!google.colab.kernel.accessAllowed) {\n",
              "        return;\n",
              "      }\n",
              "      const div = document.createElement('div');\n",
              "      const label = document.createElement('label');\n",
              "      label.textContent = `Downloading \"${filename}\": `;\n",
              "      div.appendChild(label);\n",
              "      const progress = document.createElement('progress');\n",
              "      progress.max = size;\n",
              "      div.appendChild(progress);\n",
              "      document.body.appendChild(div);\n",
              "\n",
              "      const buffers = [];\n",
              "      let downloaded = 0;\n",
              "\n",
              "      const channel = await google.colab.kernel.comms.open(id);\n",
              "      // Send a message to notify the kernel that we're ready.\n",
              "      channel.send({})\n",
              "\n",
              "      for await (const message of channel.messages) {\n",
              "        // Send a message to notify the kernel that we're ready.\n",
              "        channel.send({})\n",
              "        if (message.buffers) {\n",
              "          for (const buffer of message.buffers) {\n",
              "            buffers.push(buffer);\n",
              "            downloaded += buffer.byteLength;\n",
              "            progress.value = downloaded;\n",
              "          }\n",
              "        }\n",
              "      }\n",
              "      const blob = new Blob(buffers, {type: 'application/binary'});\n",
              "      const a = document.createElement('a');\n",
              "      a.href = window.URL.createObjectURL(blob);\n",
              "      a.download = filename;\n",
              "      div.appendChild(a);\n",
              "      a.click();\n",
              "      div.remove();\n",
              "    }\n",
              "  "
            ]
          },
          "metadata": {}
        },
        {
          "output_type": "display_data",
          "data": {
            "text/plain": [
              "<IPython.core.display.Javascript object>"
            ],
            "application/javascript": [
              "download(\"download_f67b5908-f0b0-4b14-b20a-578b04e23ae3\", \"mse.png\", 42472)"
            ]
          },
          "metadata": {}
        },
        {
          "output_type": "display_data",
          "data": {
            "text/plain": [
              "<IPython.core.display.Javascript object>"
            ],
            "application/javascript": [
              "\n",
              "    async function download(id, filename, size) {\n",
              "      if (!google.colab.kernel.accessAllowed) {\n",
              "        return;\n",
              "      }\n",
              "      const div = document.createElement('div');\n",
              "      const label = document.createElement('label');\n",
              "      label.textContent = `Downloading \"${filename}\": `;\n",
              "      div.appendChild(label);\n",
              "      const progress = document.createElement('progress');\n",
              "      progress.max = size;\n",
              "      div.appendChild(progress);\n",
              "      document.body.appendChild(div);\n",
              "\n",
              "      const buffers = [];\n",
              "      let downloaded = 0;\n",
              "\n",
              "      const channel = await google.colab.kernel.comms.open(id);\n",
              "      // Send a message to notify the kernel that we're ready.\n",
              "      channel.send({})\n",
              "\n",
              "      for await (const message of channel.messages) {\n",
              "        // Send a message to notify the kernel that we're ready.\n",
              "        channel.send({})\n",
              "        if (message.buffers) {\n",
              "          for (const buffer of message.buffers) {\n",
              "            buffers.push(buffer);\n",
              "            downloaded += buffer.byteLength;\n",
              "            progress.value = downloaded;\n",
              "          }\n",
              "        }\n",
              "      }\n",
              "      const blob = new Blob(buffers, {type: 'application/binary'});\n",
              "      const a = document.createElement('a');\n",
              "      a.href = window.URL.createObjectURL(blob);\n",
              "      a.download = filename;\n",
              "      div.appendChild(a);\n",
              "      a.click();\n",
              "      div.remove();\n",
              "    }\n",
              "  "
            ]
          },
          "metadata": {}
        },
        {
          "output_type": "display_data",
          "data": {
            "text/plain": [
              "<IPython.core.display.Javascript object>"
            ],
            "application/javascript": [
              "download(\"download_575761b5-aece-4553-9b26-e5706c941a03\", \"loss.txt\", 66)"
            ]
          },
          "metadata": {}
        },
        {
          "output_type": "stream",
          "name": "stdout",
          "text": [
            "Epoch 1/25\n",
            "23/23 [==============================] - 5s 158ms/step - loss: 0.6653\n",
            "Epoch 2/25\n",
            "23/23 [==============================] - 3s 140ms/step - loss: 0.5400\n",
            "Epoch 3/25\n",
            "23/23 [==============================] - 3s 134ms/step - loss: 0.5567\n",
            "Epoch 4/25\n",
            "23/23 [==============================] - 3s 135ms/step - loss: 0.5459\n",
            "Epoch 5/25\n",
            "23/23 [==============================] - 3s 136ms/step - loss: 0.5369\n",
            "Epoch 6/25\n",
            "23/23 [==============================] - 3s 134ms/step - loss: 0.5381\n",
            "Epoch 7/25\n",
            "23/23 [==============================] - 3s 135ms/step - loss: 0.5374\n",
            "Epoch 8/25\n",
            "23/23 [==============================] - 3s 134ms/step - loss: 0.5393\n",
            "Epoch 9/25\n",
            "23/23 [==============================] - 3s 135ms/step - loss: 0.5380\n",
            "Epoch 10/25\n",
            "23/23 [==============================] - 3s 135ms/step - loss: 0.5365\n",
            "Epoch 11/25\n",
            "23/23 [==============================] - 3s 134ms/step - loss: 0.5367\n",
            "Epoch 12/25\n",
            "23/23 [==============================] - 3s 135ms/step - loss: 0.5388\n",
            "Epoch 13/25\n",
            "23/23 [==============================] - 3s 137ms/step - loss: 0.5389\n",
            "Epoch 14/25\n",
            "23/23 [==============================] - 3s 137ms/step - loss: 0.5405\n",
            "Epoch 15/25\n",
            "23/23 [==============================] - 3s 135ms/step - loss: 0.5367\n",
            "Epoch 16/25\n",
            "23/23 [==============================] - 3s 135ms/step - loss: 0.5378\n",
            "Epoch 17/25\n",
            "23/23 [==============================] - 3s 136ms/step - loss: 0.5395\n",
            "Epoch 18/25\n",
            "23/23 [==============================] - 3s 136ms/step - loss: 0.5389\n",
            "Epoch 19/25\n",
            "23/23 [==============================] - 3s 144ms/step - loss: 0.5379\n",
            "Epoch 20/25\n",
            "23/23 [==============================] - 3s 137ms/step - loss: 0.5366\n",
            "Epoch 21/25\n",
            "23/23 [==============================] - 3s 135ms/step - loss: 0.5367\n",
            "Epoch 22/25\n",
            "23/23 [==============================] - 3s 134ms/step - loss: 0.5375\n",
            "Epoch 23/25\n",
            "23/23 [==============================] - 3s 141ms/step - loss: 0.5380\n",
            "Epoch 24/25\n",
            "23/23 [==============================] - 3s 142ms/step - loss: 0.5381\n",
            "Epoch 25/25\n",
            "23/23 [==============================] - 3s 134ms/step - loss: 0.5381\n"
          ]
        },
        {
          "output_type": "display_data",
          "data": {
            "text/plain": [
              "<IPython.core.display.Javascript object>"
            ],
            "application/javascript": [
              "\n",
              "    async function download(id, filename, size) {\n",
              "      if (!google.colab.kernel.accessAllowed) {\n",
              "        return;\n",
              "      }\n",
              "      const div = document.createElement('div');\n",
              "      const label = document.createElement('label');\n",
              "      label.textContent = `Downloading \"${filename}\": `;\n",
              "      div.appendChild(label);\n",
              "      const progress = document.createElement('progress');\n",
              "      progress.max = size;\n",
              "      div.appendChild(progress);\n",
              "      document.body.appendChild(div);\n",
              "\n",
              "      const buffers = [];\n",
              "      let downloaded = 0;\n",
              "\n",
              "      const channel = await google.colab.kernel.comms.open(id);\n",
              "      // Send a message to notify the kernel that we're ready.\n",
              "      channel.send({})\n",
              "\n",
              "      for await (const message of channel.messages) {\n",
              "        // Send a message to notify the kernel that we're ready.\n",
              "        channel.send({})\n",
              "        if (message.buffers) {\n",
              "          for (const buffer of message.buffers) {\n",
              "            buffers.push(buffer);\n",
              "            downloaded += buffer.byteLength;\n",
              "            progress.value = downloaded;\n",
              "          }\n",
              "        }\n",
              "      }\n",
              "      const blob = new Blob(buffers, {type: 'application/binary'});\n",
              "      const a = document.createElement('a');\n",
              "      a.href = window.URL.createObjectURL(blob);\n",
              "      a.download = filename;\n",
              "      div.appendChild(a);\n",
              "      a.click();\n",
              "      div.remove();\n",
              "    }\n",
              "  "
            ]
          },
          "metadata": {}
        },
        {
          "output_type": "display_data",
          "data": {
            "text/plain": [
              "<IPython.core.display.Javascript object>"
            ],
            "application/javascript": [
              "download(\"download_29b2b96a-1a77-4aad-accd-dde99c14bb6e\", \"binary_crossentropy.png\", 44687)"
            ]
          },
          "metadata": {}
        },
        {
          "output_type": "display_data",
          "data": {
            "text/plain": [
              "<IPython.core.display.Javascript object>"
            ],
            "application/javascript": [
              "\n",
              "    async function download(id, filename, size) {\n",
              "      if (!google.colab.kernel.accessAllowed) {\n",
              "        return;\n",
              "      }\n",
              "      const div = document.createElement('div');\n",
              "      const label = document.createElement('label');\n",
              "      label.textContent = `Downloading \"${filename}\": `;\n",
              "      div.appendChild(label);\n",
              "      const progress = document.createElement('progress');\n",
              "      progress.max = size;\n",
              "      div.appendChild(progress);\n",
              "      document.body.appendChild(div);\n",
              "\n",
              "      const buffers = [];\n",
              "      let downloaded = 0;\n",
              "\n",
              "      const channel = await google.colab.kernel.comms.open(id);\n",
              "      // Send a message to notify the kernel that we're ready.\n",
              "      channel.send({})\n",
              "\n",
              "      for await (const message of channel.messages) {\n",
              "        // Send a message to notify the kernel that we're ready.\n",
              "        channel.send({})\n",
              "        if (message.buffers) {\n",
              "          for (const buffer of message.buffers) {\n",
              "            buffers.push(buffer);\n",
              "            downloaded += buffer.byteLength;\n",
              "            progress.value = downloaded;\n",
              "          }\n",
              "        }\n",
              "      }\n",
              "      const blob = new Blob(buffers, {type: 'application/binary'});\n",
              "      const a = document.createElement('a');\n",
              "      a.href = window.URL.createObjectURL(blob);\n",
              "      a.download = filename;\n",
              "      div.appendChild(a);\n",
              "      a.click();\n",
              "      div.remove();\n",
              "    }\n",
              "  "
            ]
          },
          "metadata": {}
        },
        {
          "output_type": "display_data",
          "data": {
            "text/plain": [
              "<IPython.core.display.Javascript object>"
            ],
            "application/javascript": [
              "download(\"download_775daaaf-5fb9-473e-a252-cf9f01f138fe\", \"loss.txt\", 146)"
            ]
          },
          "metadata": {}
        }
      ],
      "source": [
        "ls = ['mse', 'binary_crossentropy']\n",
        "for i in ls:\n",
        "  model = Sequential()\n",
        "  model.add(\n",
        "      LSTM(1000,\n",
        "          activation='relu',\n",
        "          input_shape=(look_back,1)\n",
        "          )\n",
        "  )\n",
        "\n",
        "  model.add(Dense(1))\n",
        "  model.compile(optimizer='adam', loss=i)\n",
        "\n",
        "  num_epochs = 25\n",
        "  model.fit(train_generator,epochs=num_epochs, verbose=1)\n",
        "\n",
        "  prediction = model.predict(test_generator)\n",
        "\n",
        "  num_prediction = 30\n",
        "  forecast = predict(num_prediction, model)\n",
        "  forecast_dates = predict_dates(num_prediction)\n",
        "\n",
        "  #close_test=close_test[:-look_back]\n",
        "\n",
        "  close_train = close_train.reshape((-1))\n",
        "  close_test = close_test.reshape((-1))\n",
        "  prediction = prediction.reshape((-1))\n",
        "\n",
        "  trace1 = go.Scatter(\n",
        "      x = date_train,\n",
        "      y = close_train,\n",
        "      mode = 'lines',\n",
        "      name = 'Data',\n",
        "  )\n",
        "\n",
        "\n",
        "  trace2 = go.Scatter(\n",
        "      x = date_test,\n",
        "      y = prediction,\n",
        "      mode = 'lines',\n",
        "      name = 'Predicted Data'\n",
        "  )\n",
        "  trace3 = go.Scatter(\n",
        "      x = date_test,\n",
        "      y = close_test,\n",
        "      mode='lines',\n",
        "      name = 'Test Data'\n",
        "  )\n",
        "  trace4 = go.Scatter(\n",
        "      x = forecast_dates,\n",
        "      y = forecast,\n",
        "      mode='lines',\n",
        "      name = 'Future Data'\n",
        "  )\n",
        "  layout = go.Layout(\n",
        "      title = stock_name,\n",
        "      xaxis = {'title' : \"Date\"},\n",
        "      yaxis = {'title' : \"Close\"}\n",
        "  )\n",
        "  fig = go.Figure(data=[trace1, trace2, trace3, trace4], layout=layout)\n",
        "  #fig.update_xaxes(type=\"log\")\n",
        "\n",
        "  fig.write_image(i + \".png\")\n",
        "\n",
        "  files.download(i + \".png\")\n",
        "\n",
        "  close_test2=close_test[:-5]\n",
        "  RNNmse = mean_squared_error(close_test2,prediction)\n",
        "  from math import sqrt\n",
        "  RNNrmse = sqrt(RNNmse)\n",
        "  RNNr2Score = r2_score(close_test2,prediction)\n",
        "\n",
        "\n",
        "  with open('loss.txt', 'a') as testwritefile:\n",
        "      testwritefile.write(i + \" \" + str(RNNmse) + \" \" + str(RNNrmse) + \" \" + str(RNNr2Score) + \"\\n\")\n",
        "  files.download('loss.txt')"
      ]
    },
    {
      "cell_type": "code",
      "execution_count": null,
      "metadata": {
        "id": "wR33fJFVBPxI"
      },
      "outputs": [],
      "source": [
        ""
      ]
    },
    {
      "cell_type": "code",
      "execution_count": null,
      "metadata": {
        "id": "XDLwba6zVyZV"
      },
      "outputs": [],
      "source": [
        ""
      ]
    },
    {
      "cell_type": "code",
      "execution_count": null,
      "metadata": {
        "id": "vYswLdlUCQz8"
      },
      "outputs": [],
      "source": [
        ""
      ]
    }
  ],
  "metadata": {
    "colab": {
      "collapsed_sections": [],
      "name": "Final C1_Loss.ipynb",
      "provenance": [],
      "include_colab_link": true
    },
    "kernelspec": {
      "display_name": "Python 3",
      "name": "python3"
    },
    "language_info": {
      "name": "python"
    }
  },
  "nbformat": 4,
  "nbformat_minor": 0
}